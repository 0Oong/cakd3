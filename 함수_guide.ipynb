{
 "cells": [
  {
   "cell_type": "code",
   "execution_count": 1,
   "id": "c2b9ca5d",
   "metadata": {},
   "outputs": [
    {
     "name": "stdout",
     "output_type": "stream",
     "text": [
      "Hi\n"
     ]
    }
   ],
   "source": [
    "# 입력값이 없고 결과값만 있는 함수\n",
    "\n",
    "def say():\n",
    "    return 'Hi'\n",
    "\n",
    "a = say()\n",
    "print(a)"
   ]
  },
  {
   "cell_type": "code",
   "execution_count": 3,
   "id": "ec48c421",
   "metadata": {},
   "outputs": [
    {
     "name": "stdout",
     "output_type": "stream",
     "text": [
      "5\n"
     ]
    }
   ],
   "source": [
    "# 결과값(return) 없는 함수\n",
    "\n",
    "def add(a,b):\n",
    "    print(a+b)\n",
    "add(2,3)"
   ]
  },
  {
   "cell_type": "code",
   "execution_count": 4,
   "id": "ea457fc6",
   "metadata": {},
   "outputs": [
    {
     "name": "stdout",
     "output_type": "stream",
     "text": [
      "Hi\n"
     ]
    }
   ],
   "source": [
    "# 입력값도 결과값도 없는 함수\n",
    "def say():\n",
    "    print('Hi')\n",
    "say()"
   ]
  },
  {
   "cell_type": "code",
   "execution_count": 6,
   "id": "44891a1e",
   "metadata": {},
   "outputs": [
    {
     "data": {
      "text/plain": [
       "55"
      ]
     },
     "execution_count": 6,
     "metadata": {},
     "output_type": "execute_result"
    }
   ],
   "source": [
    "# 여러 개의 입력값을 받는 함수\n",
    "def sum_many(*args):\n",
    "    sum = 0\n",
    "    for i in args:\n",
    "        sum += i\n",
    "    return sum\n",
    "sum_many(1,2,3,4,5,6,7,8,9,10)"
   ]
  },
  {
   "cell_type": "code",
   "execution_count": 7,
   "id": "d79eeb57",
   "metadata": {},
   "outputs": [
    {
     "name": "stdout",
     "output_type": "stream",
     "text": [
      "(7, 12)\n"
     ]
    }
   ],
   "source": [
    "# 함수의 반환(결과값)은 언제나 하나임 - 결과값으로 튜플 값 하나로 처리\n",
    "def add_and_mul(a,b):\n",
    "    return a+b,a*b\n",
    "result = add_and_mul(3,4)\n",
    "print(result)"
   ]
  },
  {
   "cell_type": "code",
   "execution_count": 9,
   "id": "f7371dad",
   "metadata": {},
   "outputs": [
    {
     "name": "stdout",
     "output_type": "stream",
     "text": [
      "5\n"
     ]
    }
   ],
   "source": [
    "def add_and_mul(a,b):\n",
    "    return a+b\n",
    "    return a*b\n",
    "result = add_and_mul(2,3)\n",
    "print(result)"
   ]
  },
  {
   "cell_type": "code",
   "execution_count": 13,
   "id": "728471a5",
   "metadata": {},
   "outputs": [
    {
     "name": "stdout",
     "output_type": "stream",
     "text": [
      "5\n",
      "6\n"
     ]
    }
   ],
   "source": [
    "# 하나의 튜플 값을 2개의 결과값처럼 출력\n",
    "def add_and_mul(a,b):\n",
    "    return a+b, a*b\n",
    "    \n",
    "result1,result2 = add_and_mul(2,3)\n",
    "print(result1)\n",
    "print(result2)"
   ]
  },
  {
   "cell_type": "code",
   "execution_count": 8,
   "id": "dc14352b",
   "metadata": {},
   "outputs": [
    {
     "name": "stdout",
     "output_type": "stream",
     "text": [
      "15\n"
     ]
    },
    {
     "data": {
      "text/plain": [
       "120"
      ]
     },
     "execution_count": 8,
     "metadata": {},
     "output_type": "execute_result"
    }
   ],
   "source": [
    "# Q. add_mul() 함수를 정의하여 1,2,3,4,5를 입력값으로 적용하여 덧셈, 곱셈 연산을 수행\n",
    "# 입력값으로 연산방법과 숫자를 입력\n",
    "\n",
    "def add_mul(choice,*args):\n",
    "    if choice == 'add':\n",
    "        result = 0\n",
    "        for i in args:\n",
    "            result += i\n",
    "    elif choice == 'mul':\n",
    "        result = 1\n",
    "        for i in args:\n",
    "            result *= i\n",
    "    return result\n",
    "print(add_mul('add', 1,2,3,4,5))\n",
    "add_mul('mul', 1,2,3,4,5)"
   ]
  },
  {
   "cell_type": "code",
   "execution_count": 14,
   "id": "7696b4d9",
   "metadata": {},
   "outputs": [
    {
     "name": "stdout",
     "output_type": "stream",
     "text": [
      "나의 별명은 야호입니다\n"
     ]
    },
    {
     "data": {
      "text/plain": [
       "'아니야!'"
      ]
     },
     "execution_count": 14,
     "metadata": {},
     "output_type": "execute_result"
    }
   ],
   "source": [
    "# 문자열을 출력한다는 것과 리턴값이 있다는 것은 전혀 다른 것임\n",
    "def say_nick(nick):\n",
    "    if nick == '바보':\n",
    "        return '아니야!'\n",
    "    print('나의 별명은 %s입니다' % nick)\n",
    "say_nick('야호')\n",
    "say_nick('바보')"
   ]
  },
  {
   "cell_type": "code",
   "execution_count": 17,
   "id": "6b688eaa",
   "metadata": {},
   "outputs": [
    {
     "name": "stdout",
     "output_type": "stream",
     "text": [
      "나의 이름은 홍길동입니다\n",
      "나이는 20살입니다\n",
      "남자입니다.\n"
     ]
    }
   ],
   "source": [
    "# 입력 인수에 초기값 미리 설정하기\n",
    "\n",
    "def say_myself(name,old, man=True):\n",
    "    print('나의 이름은 %s입니다' %name)\n",
    "    print('나이는 %d살입니다' %old)\n",
    "    if man:\n",
    "        print('남자입니다.')\n",
    "    else:\n",
    "        print('여자입니다.')\n",
    "\n",
    "say_myself('홍길동',20)\n",
    "# say_myself('홍길동',20,True)\n",
    "# say_myself('홍길동',20,False)"
   ]
  },
  {
   "cell_type": "code",
   "execution_count": 18,
   "id": "1a4a10de",
   "metadata": {},
   "outputs": [
    {
     "ename": "SyntaxError",
     "evalue": "non-default argument follows default argument (<ipython-input-18-72616bd78d5b>, line 1)",
     "output_type": "error",
     "traceback": [
      "\u001b[1;36m  File \u001b[1;32m\"<ipython-input-18-72616bd78d5b>\"\u001b[1;36m, line \u001b[1;32m1\u001b[0m\n\u001b[1;33m    def say_myself(name,man=True,old):\u001b[0m\n\u001b[1;37m                   ^\u001b[0m\n\u001b[1;31mSyntaxError\u001b[0m\u001b[1;31m:\u001b[0m non-default argument follows default argument\n"
     ]
    }
   ],
   "source": [
    "# 초기값을 설정 인수 뒤에 초기값 설정하지 않은 입력 인수는 사용할 수 없음\n",
    "def say_myself(name,man=True,old):\n",
    "    print('나의 이름은 %s입니다' %name)\n",
    "    print('나이는 %d살입니다' %old)\n",
    "    if man:\n",
    "        print('남자입니다.')\n",
    "    else:\n",
    "        print('여자입니다.')\n",
    "\n",
    "say_myself('홍길동',20)"
   ]
  },
  {
   "cell_type": "code",
   "execution_count": 26,
   "id": "252fd6df",
   "metadata": {},
   "outputs": [
    {
     "name": "stdout",
     "output_type": "stream",
     "text": [
      "None\n",
      "1\n"
     ]
    }
   ],
   "source": [
    "# 함수 안에서 선언된 변수의 효력 범위\n",
    "a = 1\n",
    "def vartest(a):\n",
    "    \n",
    "    a = a + 1\n",
    "\n",
    "print(vartest(a))\n",
    "print(a)"
   ]
  },
  {
   "cell_type": "code",
   "execution_count": 27,
   "id": "3b546d00",
   "metadata": {},
   "outputs": [
    {
     "name": "stdout",
     "output_type": "stream",
     "text": [
      "2\n"
     ]
    }
   ],
   "source": [
    "# 함수 안에서 함수 밖의 변수를 변경하는 방법 - return 이용\n",
    "\n",
    "a = 1\n",
    "def vartest(a):\n",
    "    a = a + 1\n",
    "    return a\n",
    "a = vartest(a)\n",
    "print(a)"
   ]
  },
  {
   "cell_type": "code",
   "execution_count": 28,
   "id": "9d60b1f3",
   "metadata": {},
   "outputs": [
    {
     "name": "stdout",
     "output_type": "stream",
     "text": [
      "2\n"
     ]
    }
   ],
   "source": [
    "# global 명령을 이용하는 방법\n",
    "a = 1\n",
    "def vartest():\n",
    "    global a\n",
    "    a = a + 1\n",
    "    \n",
    "vartest()\n",
    "print(a)"
   ]
  },
  {
   "cell_type": "code",
   "execution_count": 29,
   "id": "dd2c98b1",
   "metadata": {},
   "outputs": [],
   "source": [
    "# 파일 읽고 쓰기\n",
    "f = open('test1.txt','w')\n",
    "f.close()"
   ]
  },
  {
   "cell_type": "code",
   "execution_count": 31,
   "id": "475c2dfd",
   "metadata": {},
   "outputs": [],
   "source": [
    "f = open('test1.txt','w')\n",
    "for i in range(1,11):\n",
    "    data = '%d번째 줄입니다.\\n' %i\n",
    "    f.write(data)\n",
    "f.close()"
   ]
  },
  {
   "cell_type": "code",
   "execution_count": 32,
   "id": "c16e967b",
   "metadata": {},
   "outputs": [
    {
     "name": "stdout",
     "output_type": "stream",
     "text": [
      "1번째 줄입니다.\n",
      "\n"
     ]
    }
   ],
   "source": [
    "f = open('test1.txt','r')\n",
    "line = f.readline()\n",
    "print(line)\n",
    "f.close()"
   ]
  },
  {
   "cell_type": "code",
   "execution_count": 33,
   "id": "9ad1e141",
   "metadata": {},
   "outputs": [
    {
     "name": "stdout",
     "output_type": "stream",
     "text": [
      "1번째 줄입니다.\n",
      "\n",
      "2번째 줄입니다.\n",
      "\n",
      "3번째 줄입니다.\n",
      "\n",
      "4번째 줄입니다.\n",
      "\n",
      "5번째 줄입니다.\n",
      "\n",
      "6번째 줄입니다.\n",
      "\n",
      "7번째 줄입니다.\n",
      "\n",
      "8번째 줄입니다.\n",
      "\n",
      "9번째 줄입니다.\n",
      "\n",
      "10번째 줄입니다.\n",
      "\n"
     ]
    }
   ],
   "source": [
    "f = open('test1.txt','r')\n",
    "while True:\n",
    "    line = f.readline()\n",
    "    if not line: break\n",
    "    print(line)\n",
    "f.close()"
   ]
  },
  {
   "cell_type": "code",
   "execution_count": null,
   "id": "d586ff1b",
   "metadata": {},
   "outputs": [],
   "source": [
    "# 과제\n",
    "# test2를 최대한 의미있게 만들어 보세요"
   ]
  },
  {
   "cell_type": "code",
   "execution_count": 34,
   "id": "be440940",
   "metadata": {},
   "outputs": [
    {
     "name": "stdout",
     "output_type": "stream",
     "text": [
      "1번째 줄입니다.\n",
      "\n",
      "2번째 줄입니다.\n",
      "\n",
      "3번째 줄입니다.\n",
      "\n",
      "4번째 줄입니다.\n",
      "\n",
      "5번째 줄입니다.\n",
      "\n",
      "6번째 줄입니다.\n",
      "\n",
      "7번째 줄입니다.\n",
      "\n",
      "8번째 줄입니다.\n",
      "\n",
      "9번째 줄입니다.\n",
      "\n",
      "10번째 줄입니다.\n",
      "\n"
     ]
    }
   ],
   "source": [
    "f = open('test1.txt','r')\n",
    "lines = f.readlines()\n",
    "for line in lines:\n",
    "    print(line)\n",
    "f.close()"
   ]
  },
  {
   "cell_type": "code",
   "execution_count": 35,
   "id": "5a54592f",
   "metadata": {},
   "outputs": [
    {
     "name": "stdout",
     "output_type": "stream",
     "text": [
      "1번째 줄입니다.\n",
      "2번째 줄입니다.\n",
      "3번째 줄입니다.\n",
      "4번째 줄입니다.\n",
      "5번째 줄입니다.\n",
      "6번째 줄입니다.\n",
      "7번째 줄입니다.\n",
      "8번째 줄입니다.\n",
      "9번째 줄입니다.\n",
      "10번째 줄입니다.\n",
      "\n"
     ]
    }
   ],
   "source": [
    "# f.read()는 파일 내용 전체를 문자열로 반환\n",
    "f = open('test1.txt','r')\n",
    "data = f.read()\n",
    "print(data)\n",
    "f.close()"
   ]
  },
  {
   "cell_type": "code",
   "execution_count": 38,
   "id": "5211e6ad",
   "metadata": {},
   "outputs": [],
   "source": [
    "f = open('test1.txt','a')\n",
    "for i in range(11,16):\n",
    "    data = \"%d번째 줄입니다.\\n\" %i\n",
    "    f.write(data)\n",
    "f.close()"
   ]
  },
  {
   "cell_type": "code",
   "execution_count": 39,
   "id": "978dcf06",
   "metadata": {},
   "outputs": [
    {
     "name": "stdout",
     "output_type": "stream",
     "text": [
      "1번째 줄입니다.\n",
      "2번째 줄입니다.\n",
      "3번째 줄입니다.\n",
      "4번째 줄입니다.\n",
      "5번째 줄입니다.\n",
      "6번째 줄입니다.\n",
      "7번째 줄입니다.\n",
      "8번째 줄입니다.\n",
      "9번째 줄입니다.\n",
      "10번째 줄입니다.\n",
      "11번째 줄입니다.12번째 줄입니다.13번째 줄입니다.14번째 줄입니다.15번째 줄입니다.11번째 줄입니다.\n",
      "12번째 줄입니다.\n",
      "13번째 줄입니다.\n",
      "14번째 줄입니다.\n",
      "15번째 줄입니다.\n",
      "\n"
     ]
    }
   ],
   "source": [
    "f = open('test1.txt','r')\n",
    "data = f.read()\n",
    "print(data)\n",
    "f.close()"
   ]
  },
  {
   "cell_type": "code",
   "execution_count": 40,
   "id": "aed90c65",
   "metadata": {},
   "outputs": [],
   "source": [
    "# with 문과 같이 사용\n",
    "with open('foo.txt','w') as f:\n",
    "    f.write('파이썬을 배웁시다.') "
   ]
  },
  {
   "cell_type": "code",
   "execution_count": 41,
   "id": "fb16128b",
   "metadata": {},
   "outputs": [
    {
     "name": "stdout",
     "output_type": "stream",
     "text": [
      "파이썬을 배웁시다.\n"
     ]
    }
   ],
   "source": [
    "with open('foo.txt','r') as f:\n",
    "    data = f.read()\n",
    "    print(data)"
   ]
  },
  {
   "cell_type": "code",
   "execution_count": 44,
   "id": "0b1c7986",
   "metadata": {},
   "outputs": [],
   "source": [
    "with open('test1.txt','w') as f:\n",
    "    for i in range(1,11):\n",
    "        data = '%d번째 줄입니다.\\n' %i\n",
    "        f.write(data)"
   ]
  },
  {
   "cell_type": "code",
   "execution_count": 45,
   "id": "6a467dc2",
   "metadata": {},
   "outputs": [],
   "source": [
    "with open('test1.txt','a') as f:\n",
    "    for i in range(11,16):\n",
    "        data = '%d번째 줄입니다.\\n' %i\n",
    "        f.write(data)"
   ]
  },
  {
   "cell_type": "code",
   "execution_count": 46,
   "id": "82f851d0",
   "metadata": {},
   "outputs": [
    {
     "name": "stdout",
     "output_type": "stream",
     "text": [
      "1번째 줄입니다.\n",
      "2번째 줄입니다.\n",
      "3번째 줄입니다.\n",
      "4번째 줄입니다.\n",
      "5번째 줄입니다.\n",
      "6번째 줄입니다.\n",
      "7번째 줄입니다.\n",
      "8번째 줄입니다.\n",
      "9번째 줄입니다.\n",
      "10번째 줄입니다.\n",
      "11번째 줄입니다.\n",
      "12번째 줄입니다.\n",
      "13번째 줄입니다.\n",
      "14번째 줄입니다.\n",
      "15번째 줄입니다.\n",
      "\n"
     ]
    }
   ],
   "source": [
    "with open('test1.txt','r') as f:\n",
    "    data = f.read()\n",
    "    print(data)"
   ]
  },
  {
   "cell_type": "markdown",
   "id": "fd002772",
   "metadata": {},
   "source": [
    "내장함수\n",
    "https://docs.python.org/ko/3/library/functions.html"
   ]
  },
  {
   "cell_type": "code",
   "execution_count": 50,
   "id": "0325edd9",
   "metadata": {},
   "outputs": [
    {
     "name": "stdout",
     "output_type": "stream",
     "text": [
      "3\n",
      "False\n",
      "True\n",
      "a\n"
     ]
    }
   ],
   "source": [
    "# 내장함수\n",
    "print(abs(-3)) # 절대값\n",
    "print(all([1,2,3,0])) # x가 모두 참이면 True, 거짓이 하나라도 있으면 False\n",
    "print(any([1,2,3,0])) # x중 하나라도 참이면 True, 모두 거짓일 경우 False\n",
    "print(chr(97))"
   ]
  },
  {
   "cell_type": "code",
   "execution_count": 51,
   "id": "7c6eed47",
   "metadata": {},
   "outputs": [
    {
     "data": {
      "text/plain": [
       "7"
      ]
     },
     "execution_count": 51,
     "metadata": {},
     "output_type": "execute_result"
    }
   ],
   "source": [
    "sum = lambda a,b:a+b\n",
    "sum(3,4)"
   ]
  },
  {
   "cell_type": "code",
   "execution_count": 52,
   "id": "a2c2f065",
   "metadata": {},
   "outputs": [
    {
     "name": "stdout",
     "output_type": "stream",
     "text": [
      "7\n",
      "12\n"
     ]
    }
   ],
   "source": [
    "myList = [lambda a,b:a+b, lambda a,b:a*b]\n",
    "print(myList[0](3,4))\n",
    "print(myList[1](3,4))"
   ]
  },
  {
   "cell_type": "code",
   "execution_count": 54,
   "id": "c2c41d1a",
   "metadata": {},
   "outputs": [
    {
     "name": "stdout",
     "output_type": "stream",
     "text": [
      "6\n",
      "3\n",
      "3\n"
     ]
    }
   ],
   "source": [
    "print(len('python'))\n",
    "print(len([1,2,3]))\n",
    "print(len([1,2,'a']))"
   ]
  },
  {
   "cell_type": "code",
   "execution_count": 56,
   "id": "a65bfe11",
   "metadata": {},
   "outputs": [
    {
     "name": "stdout",
     "output_type": "stream",
     "text": [
      "['p', 'y', 't', 'h', 'o', 'n']\n"
     ]
    },
    {
     "data": {
      "text/plain": [
       "[1, 2, 3]"
      ]
     },
     "execution_count": 56,
     "metadata": {},
     "output_type": "execute_result"
    }
   ],
   "source": [
    "print(list('python'))\n",
    "list((1,2,3))"
   ]
  },
  {
   "cell_type": "markdown",
   "id": "27f184b3",
   "metadata": {},
   "source": [
    "list(range(5))\n",
    "list(range(1,6))\n",
    "list(range(1,10,2))\n",
    "list(range(0,-10,-1))"
   ]
  },
  {
   "cell_type": "markdown",
   "id": "7dea9226",
   "metadata": {},
   "source": [
    "외장함수\n",
    "https://yganalyst.github.io/data_handling/Py_study17/"
   ]
  },
  {
   "cell_type": "code",
   "execution_count": null,
   "id": "689489a0",
   "metadata": {},
   "outputs": [],
   "source": [
    "# 외장 함수 : 어떤 일을 할 때 어떤 라이브러리를 사용하는지를 알면 됨\n",
    "# 전 세계의 파이썬 사용자들이 만든 유용한 프로그램을 모아 놓은 것이 바로 파이썬 \n",
    "# 라이브러리\n",
    "# 파이썬 라이브러리는 파이썬을 설치할 때 자동으로 컴퓨터에 설치"
   ]
  },
  {
   "cell_type": "code",
   "execution_count": 63,
   "id": "d732cdae",
   "metadata": {},
   "outputs": [],
   "source": [
    "# pickle은 객체의 형태를 유지하면서 파일에 저장하고 불러올 수 있게 하는 모듈\n",
    "import pickle\n",
    "f = open('test.txt','wb')\n",
    "data = {1:'python',2:'you need'}\n",
    "pickle.dump(data,f)\n",
    "f.close()"
   ]
  },
  {
   "cell_type": "code",
   "execution_count": 65,
   "id": "023e62f5",
   "metadata": {},
   "outputs": [
    {
     "name": "stdout",
     "output_type": "stream",
     "text": [
      "{1: 'python', 2: 'you need'}\n"
     ]
    }
   ],
   "source": [
    "import pickle\n",
    "f = open('test.txt','rb')\n",
    "data = pickle.load(f)\n",
    "print(data)\n",
    "f.close()"
   ]
  },
  {
   "cell_type": "code",
   "execution_count": 66,
   "id": "0a631d7f",
   "metadata": {},
   "outputs": [
    {
     "data": {
      "text/plain": [
       "'C:\\\\anaconda3\\\\envs\\\\cakd3;C:\\\\anaconda3\\\\envs\\\\cakd3\\\\Library\\\\mingw-w64\\\\bin;C:\\\\anaconda3\\\\envs\\\\cakd3\\\\Library\\\\usr\\\\bin;C:\\\\anaconda3\\\\envs\\\\cakd3\\\\Library\\\\bin;C:\\\\anaconda3\\\\envs\\\\cakd3\\\\Scripts;C:\\\\WINDOWS\\\\system32;C:\\\\WINDOWS;C:\\\\WINDOWS\\\\System32\\\\Wbem;C:\\\\WINDOWS\\\\System32\\\\WindowsPowerShell\\\\v1.0\\\\;C:\\\\WINDOWS\\\\System32\\\\OpenSSH\\\\;C:\\\\anaconda3;C:\\\\anaconda3\\\\Library\\\\mingw-w64\\\\bin;C:\\\\anaconda3\\\\Library\\\\bin;C:\\\\anaconda3\\\\Scripts;C:\\\\Users\\\\admin\\\\AppData\\\\Local\\\\Microsoft\\\\WindowsApps;'"
      ]
     },
     "execution_count": 66,
     "metadata": {},
     "output_type": "execute_result"
    }
   ],
   "source": [
    "import os\n",
    "os.environ['PATH']"
   ]
  },
  {
   "cell_type": "code",
   "execution_count": 68,
   "id": "76674faf",
   "metadata": {},
   "outputs": [
    {
     "data": {
      "text/plain": [
       "'C:\\\\workspace\\\\cakd3\\\\programming'"
      ]
     },
     "execution_count": 68,
     "metadata": {},
     "output_type": "execute_result"
    }
   ],
   "source": [
    "%pwd"
   ]
  },
  {
   "cell_type": "code",
   "execution_count": 71,
   "id": "d5255a3c",
   "metadata": {},
   "outputs": [],
   "source": [
    "# 폴더 변경\n",
    "import os\n",
    "os.chdir('C:/workspace/cakd3/programming')"
   ]
  },
  {
   "cell_type": "code",
   "execution_count": 73,
   "id": "1ecbe144",
   "metadata": {},
   "outputs": [
    {
     "data": {
      "text/plain": [
       "'C:\\\\workspace\\\\cakd3\\\\programming'"
      ]
     },
     "execution_count": 73,
     "metadata": {},
     "output_type": "execute_result"
    }
   ],
   "source": [
    "# 현재 폴더 반환\n",
    "os.getcwd()"
   ]
  },
  {
   "cell_type": "code",
   "execution_count": 74,
   "id": "b9d23932",
   "metadata": {},
   "outputs": [],
   "source": [
    "# 파일명 변경\n",
    "os.rename('test1.txt', 'test_new.txt')"
   ]
  },
  {
   "cell_type": "code",
   "execution_count": null,
   "id": "b47dd338",
   "metadata": {},
   "outputs": [],
   "source": [
    "import glob\n",
    "glob.glob('C:/workspace/cakd3/programming/*.ipynb')"
   ]
  },
  {
   "cell_type": "code",
   "execution_count": 86,
   "id": "da9e2834",
   "metadata": {},
   "outputs": [
    {
     "data": {
      "text/plain": [
       "1624513090.0464847"
      ]
     },
     "execution_count": 86,
     "metadata": {},
     "output_type": "execute_result"
    }
   ],
   "source": [
    "import time\n",
    "time.time()"
   ]
  },
  {
   "cell_type": "code",
   "execution_count": 87,
   "id": "688c6122",
   "metadata": {},
   "outputs": [
    {
     "data": {
      "text/plain": [
       "time.struct_time(tm_year=2021, tm_mon=6, tm_mday=24, tm_hour=14, tm_min=39, tm_sec=4, tm_wday=3, tm_yday=175, tm_isdst=0)"
      ]
     },
     "execution_count": 87,
     "metadata": {},
     "output_type": "execute_result"
    }
   ],
   "source": [
    "time.localtime(time.time())"
   ]
  },
  {
   "cell_type": "code",
   "execution_count": 88,
   "id": "0a02b746",
   "metadata": {},
   "outputs": [
    {
     "data": {
      "text/plain": [
       "'Thu Jun 24 14:39:57 2021'"
      ]
     },
     "execution_count": 88,
     "metadata": {},
     "output_type": "execute_result"
    }
   ],
   "source": [
    "time.asctime(time.localtime(time.time()))"
   ]
  },
  {
   "cell_type": "code",
   "execution_count": 89,
   "id": "52216d34",
   "metadata": {},
   "outputs": [
    {
     "name": "stdout",
     "output_type": "stream",
     "text": [
      "0\n",
      "1\n",
      "2\n",
      "3\n",
      "4\n",
      "5\n",
      "6\n",
      "7\n",
      "8\n",
      "9\n"
     ]
    }
   ],
   "source": [
    "# time.sleep() : 일정한 시간 간격을 두고 루프를 실행할 수 있음\n",
    "import time\n",
    "for i in range(10):\n",
    "    print(i)\n",
    "    time.sleep(2)"
   ]
  },
  {
   "cell_type": "code",
   "execution_count": 92,
   "id": "5045984d",
   "metadata": {},
   "outputs": [
    {
     "name": "stdout",
     "output_type": "stream",
     "text": [
      "     June 2021\n",
      "Mo Tu We Th Fr Sa Su\n",
      "    1  2  3  4  5  6\n",
      " 7  8  9 10 11 12 13\n",
      "14 15 16 17 18 19 20\n",
      "21 22 23 24 25 26 27\n",
      "28 29 30\n",
      "None\n"
     ]
    }
   ],
   "source": [
    "import calendar\n",
    "print(calendar.prmonth(2021,6))"
   ]
  },
  {
   "cell_type": "code",
   "execution_count": 96,
   "id": "1374b026",
   "metadata": {},
   "outputs": [
    {
     "name": "stdout",
     "output_type": "stream",
     "text": [
      "4\n"
     ]
    },
    {
     "data": {
      "text/plain": [
       "(1, 30)"
      ]
     },
     "execution_count": 96,
     "metadata": {},
     "output_type": "execute_result"
    }
   ],
   "source": [
    "# 요일\n",
    "print(calendar.weekday(2021,12,31))\n",
    "# (1일의 요일, 날수)\n",
    "calendar.monthrange(2021,6)"
   ]
  },
  {
   "cell_type": "code",
   "execution_count": 97,
   "id": "b10b3a13",
   "metadata": {},
   "outputs": [
    {
     "data": {
      "text/plain": [
       "True"
      ]
     },
     "execution_count": 97,
     "metadata": {},
     "output_type": "execute_result"
    }
   ],
   "source": [
    "import webbrowser\n",
    "webbrowser.open('http://google.com')"
   ]
  },
  {
   "cell_type": "code",
   "execution_count": 101,
   "id": "9ba87d03",
   "metadata": {},
   "outputs": [],
   "source": [
    "# Q. 랜덤하게 1000명의 이름, 키와 몸무게 만들기\n",
    "import random\n",
    "hanguls = list('가나다라마바사아자차카타파하')\n",
    "with open('info.txt','w') as file:\n",
    "    for i in range(1000):\n",
    "        name = random.choice(hanguls) + random.choice(hanguls)\n",
    "        height = random.randrange(140,200)\n",
    "        weight = random.randrange(40,100)\n",
    "        file.write(\"{},{},{}\\n\".format(name,height,weight))"
   ]
  },
  {
   "cell_type": "code",
   "execution_count": 102,
   "id": "1efb7510",
   "metadata": {},
   "outputs": [
    {
     "name": "stdout",
     "output_type": "stream",
     "text": [
      "가가,199,41\n",
      "아차,159,59\n",
      "가사,160,42\n",
      "카나,157,88\n",
      "바라,185,58\n",
      "카라,154,85\n",
      "자바,193,72\n",
      "차아,140,92\n",
      "타자,161,88\n",
      "마바,148,49\n",
      "다하,180,60\n",
      "타나,159,52\n",
      "나라,192,85\n",
      "자아,160,50\n",
      "가바,199,52\n",
      "카나,163,78\n",
      "자파,161,99\n",
      "차파,199,88\n",
      "하자,183,53\n",
      "가아,171,85\n",
      "라타,176,70\n",
      "카타,161,51\n",
      "자하,169,79\n",
      "타바,174,58\n",
      "나다,163,49\n",
      "마다,140,93\n",
      "카나,140,78\n",
      "가파,199,70\n",
      "차라,179,95\n",
      "마카,185,55\n",
      "파타,165,47\n",
      "가가,186,92\n",
      "바나,147,60\n",
      "카바,157,65\n",
      "사다,164,78\n",
      "하카,175,40\n",
      "하하,184,67\n",
      "마다,169,80\n",
      "타바,165,83\n",
      "다가,176,87\n",
      "나라,167,91\n",
      "나바,143,70\n",
      "라자,197,76\n",
      "마사,161,41\n",
      "하다,181,79\n",
      "바사,186,78\n",
      "카자,166,53\n",
      "하카,149,77\n",
      "하카,170,95\n",
      "차라,198,68\n",
      "사가,197,45\n",
      "라타,186,49\n",
      "차카,167,86\n",
      "하마,179,97\n",
      "마마,141,87\n",
      "차하,167,97\n",
      "라바,165,87\n",
      "아아,182,48\n",
      "나자,193,70\n",
      "다차,145,83\n",
      "라파,193,99\n",
      "타아,140,40\n",
      "하아,144,61\n",
      "마가,154,64\n",
      "가자,160,94\n",
      "라카,183,88\n",
      "하가,162,52\n",
      "가하,198,97\n",
      "바마,140,42\n",
      "아가,143,71\n",
      "타자,146,54\n",
      "라파,172,54\n",
      "마사,182,63\n",
      "나타,173,93\n",
      "바차,164,49\n",
      "나바,175,50\n",
      "자파,144,48\n",
      "마가,148,80\n",
      "다파,177,65\n",
      "사아,161,74\n",
      "사가,177,70\n",
      "다자,170,89\n",
      "마파,147,50\n",
      "아다,166,91\n",
      "마다,191,40\n",
      "타마,163,77\n",
      "아자,159,78\n",
      "가파,160,73\n",
      "차하,163,65\n",
      "하나,179,67\n",
      "차파,195,86\n",
      "타다,173,97\n",
      "카사,166,66\n",
      "자자,154,62\n",
      "하타,185,64\n",
      "나카,180,51\n",
      "아자,144,91\n",
      "카다,199,84\n",
      "타카,187,79\n",
      "카사,148,49\n",
      "아타,162,90\n",
      "라하,170,54\n",
      "사타,182,84\n",
      "파파,184,59\n",
      "아바,164,62\n",
      "바사,174,65\n",
      "나하,191,50\n",
      "타나,195,89\n",
      "타아,183,95\n",
      "차마,182,62\n",
      "바카,148,88\n",
      "파가,157,49\n",
      "가차,189,98\n",
      "가파,158,80\n",
      "마사,167,59\n",
      "카가,171,99\n",
      "카다,162,74\n",
      "파파,148,68\n",
      "사사,176,46\n",
      "다자,184,53\n",
      "아타,167,76\n",
      "파다,188,57\n",
      "사사,187,98\n",
      "카하,199,42\n",
      "마라,188,78\n",
      "아차,192,92\n",
      "가차,190,53\n",
      "사사,181,68\n",
      "아바,147,43\n",
      "하나,144,53\n",
      "차바,173,41\n",
      "파나,199,82\n",
      "차파,167,51\n",
      "나하,178,83\n",
      "라아,146,87\n",
      "나아,165,64\n",
      "다아,168,57\n",
      "가다,172,80\n",
      "나타,148,72\n",
      "바카,182,69\n",
      "나아,157,93\n",
      "타사,183,85\n",
      "차파,154,66\n",
      "하나,156,51\n",
      "아사,187,85\n",
      "파타,195,50\n",
      "가타,150,80\n",
      "라파,181,77\n",
      "가아,143,56\n",
      "파나,172,73\n",
      "사하,151,78\n",
      "파하,145,63\n",
      "자가,150,72\n",
      "차사,150,89\n",
      "파다,170,57\n",
      "라다,170,78\n",
      "마타,169,81\n",
      "가타,156,95\n",
      "나다,185,47\n",
      "마가,178,40\n",
      "가자,177,58\n",
      "카바,156,54\n",
      "타카,142,95\n",
      "바차,143,75\n",
      "카사,179,42\n",
      "타카,175,61\n",
      "나다,140,69\n",
      "다하,176,45\n",
      "사타,170,52\n",
      "타카,154,68\n",
      "마하,186,73\n",
      "바사,167,71\n",
      "하마,141,58\n",
      "카다,168,69\n",
      "사파,171,66\n",
      "파나,153,89\n",
      "바사,172,90\n",
      "라차,189,89\n",
      "하다,161,87\n",
      "자하,179,77\n",
      "타차,143,96\n",
      "다자,175,42\n",
      "차사,145,86\n",
      "사카,159,47\n",
      "하마,188,95\n",
      "파마,148,78\n",
      "가라,148,82\n",
      "바마,166,85\n",
      "사바,171,88\n",
      "마바,169,77\n",
      "사사,161,82\n",
      "가자,181,54\n",
      "하라,145,74\n",
      "카자,197,91\n",
      "하파,176,60\n",
      "바다,181,71\n",
      "타카,180,75\n",
      "마바,162,96\n",
      "다바,149,98\n",
      "하카,178,73\n",
      "아하,181,63\n",
      "타나,169,90\n",
      "라파,197,62\n",
      "타사,188,49\n",
      "아바,141,45\n",
      "나하,167,75\n",
      "타차,153,73\n",
      "사하,163,53\n",
      "차마,178,77\n",
      "아사,176,96\n",
      "가다,179,92\n",
      "하마,186,91\n",
      "나타,145,99\n",
      "바바,184,45\n",
      "가자,193,93\n",
      "아자,147,81\n",
      "차가,161,50\n",
      "카자,144,40\n",
      "파가,191,92\n",
      "가자,147,81\n",
      "하가,178,75\n",
      "나아,199,77\n",
      "파파,198,85\n",
      "나하,168,85\n",
      "마나,155,59\n",
      "아나,191,60\n",
      "마하,192,81\n",
      "라차,199,71\n",
      "타아,188,52\n",
      "라가,193,78\n",
      "자차,153,58\n",
      "마차,155,59\n",
      "다사,153,62\n",
      "하나,170,96\n",
      "타사,193,91\n",
      "가나,185,63\n",
      "아다,165,85\n",
      "가사,142,49\n",
      "라자,143,95\n",
      "파카,190,87\n",
      "자가,183,62\n",
      "바차,198,82\n",
      "차하,198,63\n",
      "타자,148,92\n",
      "나라,145,81\n",
      "카다,175,83\n",
      "마아,175,78\n",
      "다타,161,93\n",
      "파바,155,97\n",
      "사나,190,53\n",
      "카파,171,90\n",
      "라마,194,42\n",
      "타하,192,75\n",
      "카마,161,99\n",
      "자타,183,44\n",
      "자카,177,62\n",
      "타아,173,43\n",
      "나다,187,46\n",
      "타바,180,60\n",
      "하하,160,43\n",
      "다바,140,41\n",
      "카하,192,46\n",
      "차마,177,84\n",
      "마타,164,50\n",
      "카아,156,97\n",
      "라다,152,53\n",
      "나바,177,96\n",
      "파사,187,95\n",
      "라자,150,61\n",
      "하바,151,75\n",
      "카카,154,63\n",
      "타타,165,92\n",
      "파다,176,82\n",
      "나하,174,83\n",
      "타하,155,80\n",
      "파카,181,67\n",
      "라하,157,95\n",
      "카바,142,92\n",
      "다사,196,75\n",
      "타카,170,80\n",
      "아카,147,69\n",
      "나나,187,78\n",
      "차사,168,93\n",
      "하라,173,67\n",
      "다하,167,74\n",
      "사사,190,89\n",
      "가라,144,89\n",
      "가사,165,43\n",
      "바타,184,76\n",
      "나마,150,82\n",
      "바나,189,81\n",
      "사바,152,87\n",
      "다차,165,87\n",
      "다바,187,86\n",
      "자마,152,76\n",
      "라바,169,75\n",
      "다가,180,55\n",
      "나바,188,57\n",
      "차다,165,81\n",
      "다나,196,49\n",
      "사바,161,48\n",
      "자파,145,61\n",
      "파마,147,97\n",
      "차사,176,87\n",
      "아타,150,94\n",
      "카타,142,46\n",
      "아카,145,74\n",
      "자차,175,64\n",
      "하사,192,69\n",
      "차다,160,87\n",
      "타자,181,55\n",
      "파하,181,77\n",
      "아하,196,49\n",
      "사마,167,82\n",
      "바파,159,76\n",
      "카사,178,90\n",
      "타마,174,48\n",
      "차바,192,98\n",
      "파가,146,91\n",
      "아바,193,64\n",
      "사마,172,44\n",
      "바하,194,59\n",
      "바사,183,62\n",
      "라라,166,86\n",
      "바바,154,62\n",
      "바자,184,51\n",
      "타마,165,59\n",
      "자차,145,73\n",
      "하가,147,41\n",
      "나가,152,88\n",
      "라바,154,64\n",
      "라바,173,85\n",
      "카카,193,98\n",
      "가타,154,94\n",
      "아나,156,99\n",
      "타파,196,99\n",
      "하하,184,73\n",
      "사파,159,69\n",
      "파아,190,46\n",
      "하자,151,90\n",
      "카다,158,45\n",
      "아가,190,90\n",
      "하가,199,80\n",
      "가자,145,67\n",
      "사자,167,48\n",
      "하나,166,44\n",
      "파바,172,48\n",
      "카가,194,92\n",
      "파가,156,73\n",
      "사가,161,91\n",
      "하아,173,41\n",
      "나다,150,89\n",
      "차나,175,43\n",
      "라타,159,57\n",
      "사카,163,53\n",
      "하사,167,68\n",
      "가아,173,89\n",
      "파마,181,49\n",
      "다라,166,58\n",
      "타가,177,99\n",
      "타카,168,97\n",
      "타아,172,77\n",
      "카카,157,58\n",
      "바자,151,69\n",
      "아사,197,87\n",
      "타카,146,45\n",
      "카자,186,74\n",
      "사타,184,99\n",
      "하나,161,99\n",
      "차타,178,60\n",
      "다타,198,61\n",
      "사파,148,43\n",
      "사마,181,53\n",
      "바자,175,79\n",
      "사차,169,46\n",
      "나카,159,60\n",
      "다타,191,56\n",
      "차파,179,95\n",
      "사마,160,96\n",
      "다나,185,64\n",
      "바파,140,96\n",
      "라자,183,68\n",
      "하사,168,88\n",
      "라나,193,40\n",
      "가자,144,67\n",
      "타하,193,43\n",
      "라파,141,83\n",
      "타라,150,50\n",
      "카나,162,45\n",
      "카사,186,47\n",
      "차마,175,63\n",
      "라타,142,71\n",
      "바하,169,54\n",
      "카라,160,95\n",
      "라가,174,75\n",
      "자사,161,91\n",
      "라차,186,67\n",
      "카라,161,68\n",
      "나가,179,59\n",
      "가마,143,94\n",
      "나아,173,55\n",
      "사타,178,68\n",
      "다타,185,72\n",
      "라카,160,88\n",
      "차나,195,58\n",
      "하마,162,47\n",
      "다차,188,99\n",
      "마자,154,74\n",
      "차타,192,78\n",
      "카다,158,41\n",
      "바마,167,52\n",
      "나하,189,72\n",
      "아가,182,90\n",
      "사사,150,56\n",
      "라차,180,84\n",
      "하다,161,70\n",
      "라가,181,51\n",
      "마하,199,62\n",
      "바바,195,63\n",
      "라마,156,77\n",
      "파가,169,55\n",
      "자마,197,99\n",
      "가가,147,54\n",
      "차하,173,78\n",
      "나아,183,84\n",
      "라파,189,49\n",
      "나바,151,87\n",
      "자가,183,66\n",
      "차하,167,89\n",
      "파바,140,51\n",
      "하타,198,92\n",
      "자사,176,59\n",
      "하하,167,44\n",
      "가사,181,82\n",
      "아나,190,56\n",
      "파가,167,84\n",
      "아다,196,92\n",
      "라하,174,55\n",
      "아차,175,49\n",
      "라바,194,95\n",
      "사사,188,46\n",
      "카다,160,49\n",
      "마사,190,67\n",
      "아자,180,51\n",
      "나가,157,57\n",
      "사나,141,51\n",
      "파나,199,55\n",
      "마바,184,86\n",
      "파타,156,69\n",
      "다차,183,88\n",
      "카마,186,64\n",
      "파타,141,43\n",
      "차하,181,63\n",
      "사차,141,83\n",
      "타라,154,47\n",
      "마하,188,67\n",
      "파라,192,98\n",
      "아자,171,72\n",
      "차가,165,70\n",
      "타다,163,67\n",
      "자라,196,58\n",
      "가타,180,65\n",
      "하카,185,77\n",
      "파자,185,53\n",
      "다바,144,94\n",
      "마사,141,93\n",
      "하차,180,90\n",
      "카다,173,76\n",
      "다다,182,94\n",
      "다라,195,71\n",
      "라가,198,62\n",
      "사가,179,41\n",
      "차사,154,98\n",
      "다라,189,53\n",
      "사사,169,60\n",
      "바차,188,56\n",
      "자차,148,93\n",
      "바나,163,46\n",
      "카마,152,96\n",
      "마바,199,40\n",
      "아자,174,89\n",
      "차마,169,92\n",
      "아차,148,80\n",
      "사타,183,83\n",
      "파나,158,94\n",
      "자마,180,48\n",
      "가자,167,42\n",
      "차라,171,65\n",
      "나바,168,50\n",
      "마마,186,80\n",
      "다다,185,60\n",
      "라마,163,50\n",
      "가가,142,50\n",
      "하카,171,78\n",
      "하파,176,42\n",
      "타자,163,97\n",
      "나다,150,93\n",
      "차바,149,75\n",
      "아파,142,64\n",
      "사나,172,42\n",
      "타하,166,61\n",
      "차바,196,97\n",
      "바가,188,46\n",
      "나라,185,45\n",
      "아파,176,68\n",
      "사타,198,59\n",
      "하파,168,51\n",
      "바다,150,44\n",
      "카타,188,81\n",
      "나사,171,52\n",
      "마자,143,59\n",
      "마카,169,81\n",
      "마하,142,40\n",
      "카라,154,80\n",
      "라자,184,51\n",
      "바타,172,46\n",
      "하나,191,81\n",
      "차바,166,82\n",
      "차아,157,78\n",
      "카다,175,60\n",
      "나카,144,99\n",
      "자나,152,78\n",
      "자타,168,50\n",
      "차마,163,88\n",
      "타카,152,45\n",
      "가파,186,82\n",
      "카파,180,95\n",
      "사마,172,57\n",
      "라나,191,84\n",
      "가라,147,97\n",
      "사나,164,82\n",
      "나사,176,70\n",
      "바타,165,68\n",
      "마다,167,84\n",
      "파나,179,90\n",
      "가사,159,98\n",
      "가가,160,93\n",
      "사아,197,86\n",
      "카나,166,62\n",
      "나바,168,86\n",
      "사가,173,58\n",
      "사파,168,96\n",
      "마마,161,88\n",
      "마다,172,84\n",
      "카하,146,49\n",
      "카아,170,89\n",
      "바아,140,98\n",
      "가가,171,84\n",
      "가나,153,77\n",
      "아다,163,44\n",
      "자마,187,98\n",
      "바아,174,96\n",
      "차차,185,87\n",
      "마마,185,90\n",
      "바하,159,41\n",
      "라라,147,52\n",
      "라자,193,53\n",
      "파하,158,77\n",
      "카아,140,45\n",
      "나파,195,58\n",
      "카카,144,67\n",
      "가사,154,48\n",
      "카자,163,61\n",
      "하하,168,66\n",
      "카자,193,64\n",
      "나나,177,76\n",
      "라자,190,96\n",
      "라마,190,53\n",
      "사라,143,51\n",
      "파바,199,74\n",
      "나다,176,77\n",
      "하카,172,56\n",
      "아아,159,92\n",
      "사카,170,41\n",
      "가바,146,92\n",
      "차차,168,73\n",
      "타사,184,57\n",
      "바차,151,74\n",
      "가파,190,45\n",
      "사라,184,54\n",
      "하나,152,92\n",
      "다차,188,62\n",
      "타아,153,62\n",
      "마라,146,73\n",
      "마차,197,58\n",
      "라파,196,72\n",
      "아라,182,69\n",
      "사타,186,62\n",
      "자바,176,50\n",
      "하타,177,74\n",
      "나다,153,71\n",
      "바라,175,82\n",
      "타마,169,46\n",
      "바나,157,98\n",
      "바가,170,59\n",
      "차파,145,98\n",
      "바카,169,63\n",
      "다마,184,50\n",
      "바마,194,65\n",
      "타자,190,89\n",
      "카타,157,85\n",
      "자아,154,89\n",
      "바하,195,94\n",
      "자차,151,81\n",
      "다파,182,52\n",
      "라가,192,80\n",
      "타타,192,50\n",
      "파차,184,41\n",
      "마타,155,76\n",
      "타바,198,79\n",
      "나라,162,44\n",
      "파라,193,46\n",
      "파마,154,50\n",
      "마가,176,50\n",
      "카바,158,46\n",
      "하마,141,65\n",
      "나라,187,97\n",
      "마가,167,56\n",
      "마라,176,68\n",
      "타나,192,96\n",
      "자타,182,63\n",
      "가타,182,76\n",
      "파마,154,85\n",
      "사카,173,45\n",
      "카가,194,83\n",
      "바하,162,90\n",
      "아마,168,73\n",
      "아다,142,62\n",
      "바하,170,40\n",
      "바마,140,90\n",
      "마나,183,75\n",
      "나카,184,81\n",
      "카마,148,54\n",
      "마파,195,43\n",
      "사바,140,77\n",
      "다하,175,57\n",
      "카라,180,77\n",
      "하마,180,64\n",
      "사가,181,61\n",
      "나바,199,81\n",
      "바바,193,65\n",
      "라타,184,92\n",
      "타마,154,49\n",
      "사다,181,86\n",
      "바가,146,40\n",
      "마카,146,99\n",
      "라카,178,81\n",
      "가타,186,81\n",
      "바차,181,43\n",
      "라아,187,71\n",
      "아다,197,76\n",
      "자타,146,92\n",
      "차마,147,97\n",
      "파하,165,88\n",
      "바자,161,50\n",
      "파아,189,47\n",
      "하마,157,71\n",
      "하가,181,61\n",
      "나다,140,72\n",
      "타마,199,72\n",
      "바라,151,75\n",
      "타가,146,51\n",
      "라사,157,76\n",
      "하바,188,70\n",
      "아차,140,42\n",
      "타가,142,58\n",
      "타카,161,95\n",
      "바타,178,49\n",
      "카카,196,89\n",
      "차자,153,48\n",
      "차나,194,45\n",
      "자라,153,92\n",
      "라아,158,70\n",
      "타카,180,98\n",
      "하라,178,57\n",
      "다나,184,82\n",
      "타자,195,62\n",
      "타사,170,45\n",
      "타하,186,86\n",
      "다사,165,45\n",
      "카자,164,58\n",
      "타자,178,53\n",
      "나자,150,66\n",
      "라하,151,94\n",
      "가파,159,99\n",
      "나하,167,58\n",
      "하자,175,63\n",
      "카라,157,68\n",
      "바파,181,41\n",
      "사바,182,53\n",
      "다하,165,47\n",
      "카카,156,65\n",
      "마아,173,62\n",
      "차자,145,86\n",
      "라하,148,58\n",
      "마아,194,78\n",
      "사파,143,95\n",
      "바타,186,49\n",
      "가바,161,47\n",
      "아바,194,45\n",
      "카사,181,57\n",
      "마파,178,77\n",
      "나타,154,83\n",
      "차하,156,88\n",
      "아가,161,71\n",
      "차타,150,95\n",
      "타마,199,75\n",
      "자하,175,67\n",
      "마가,162,58\n",
      "라파,176,45\n",
      "카나,169,82\n",
      "파다,161,77\n",
      "다사,146,74\n",
      "차마,159,65\n",
      "마자,179,77\n",
      "바파,186,68\n",
      "차바,141,64\n",
      "타가,199,40\n",
      "카카,197,84\n",
      "차카,175,73\n",
      "나마,164,84\n",
      "하타,180,73\n",
      "라라,157,48\n",
      "파하,176,40\n",
      "나다,198,68\n",
      "사카,167,65\n",
      "바파,180,48\n",
      "나사,161,77\n",
      "하나,172,62\n",
      "바차,178,79\n",
      "마사,176,83\n",
      "파아,198,88\n",
      "라파,179,53\n",
      "가하,154,88\n",
      "하타,190,42\n",
      "타자,178,96\n",
      "다파,164,58\n",
      "하라,172,47\n",
      "나나,166,61\n",
      "자나,156,43\n",
      "라마,149,88\n",
      "아자,168,56\n",
      "나카,195,95\n",
      "아마,140,65\n",
      "자사,144,42\n",
      "타가,180,94\n",
      "바바,158,43\n",
      "차사,168,88\n",
      "아나,158,48\n",
      "차하,163,61\n",
      "차타,177,55\n",
      "다아,197,47\n",
      "카라,198,96\n",
      "카사,163,56\n",
      "마나,175,97\n",
      "타가,145,80\n",
      "아차,196,90\n",
      "카나,154,69\n",
      "나하,185,58\n",
      "나마,162,46\n",
      "라타,146,99\n",
      "나파,142,78\n",
      "파파,144,60\n",
      "아카,142,42\n",
      "다사,146,94\n",
      "카하,169,95\n",
      "카카,140,50\n",
      "마다,148,71\n",
      "바나,179,68\n",
      "사다,195,99\n",
      "라파,158,73\n",
      "타가,185,44\n",
      "가타,190,76\n",
      "바타,193,88\n",
      "파다,161,56\n",
      "라카,189,41\n",
      "나아,163,87\n",
      "카라,146,83\n",
      "사자,176,71\n",
      "바나,144,89\n",
      "바아,158,66\n",
      "타마,196,61\n",
      "파마,153,62\n",
      "타자,154,93\n",
      "자바,194,74\n",
      "차아,172,73\n",
      "파타,157,46\n",
      "타아,159,69\n",
      "라자,174,68\n",
      "파차,151,62\n",
      "차아,190,65\n",
      "마차,189,57\n",
      "타다,151,85\n",
      "하라,143,62\n",
      "라마,169,53\n",
      "가자,167,91\n",
      "마아,188,45\n",
      "차마,164,64\n",
      "하아,140,66\n",
      "사마,147,57\n",
      "파바,179,55\n",
      "하차,164,53\n",
      "하차,159,80\n",
      "마카,193,44\n",
      "하다,148,52\n",
      "라라,191,60\n",
      "차사,190,79\n",
      "사가,178,96\n",
      "다파,162,88\n",
      "카다,168,91\n",
      "타카,162,72\n",
      "아마,154,49\n",
      "하마,158,64\n",
      "아파,173,42\n",
      "하아,199,70\n",
      "가카,166,76\n",
      "사마,150,63\n",
      "타사,164,81\n",
      "가아,150,62\n",
      "다사,153,95\n",
      "자아,193,57\n",
      "파차,180,62\n",
      "하자,189,53\n",
      "하파,167,46\n",
      "바아,143,56\n",
      "카아,164,89\n",
      "가라,175,88\n",
      "나다,182,81\n",
      "다라,189,56\n",
      "차다,151,64\n",
      "마자,195,48\n",
      "차자,151,84\n",
      "하나,153,41\n",
      "차사,179,78\n",
      "카타,166,47\n",
      "나자,185,71\n",
      "타라,163,92\n",
      "자다,171,54\n",
      "카하,197,60\n",
      "카나,165,49\n",
      "차타,164,90\n",
      "마라,148,82\n",
      "바타,193,48\n",
      "타다,198,51\n",
      "바바,186,93\n",
      "마카,149,84\n",
      "차라,155,80\n",
      "타나,141,79\n",
      "아라,181,65\n",
      "타타,141,46\n",
      "라바,174,40\n",
      "사카,181,46\n",
      "카라,154,46\n",
      "파다,185,61\n",
      "아타,171,85\n",
      "하차,187,43\n",
      "카가,142,68\n",
      "마카,171,91\n",
      "아타,187,45\n",
      "차자,182,46\n",
      "아자,172,58\n",
      "라차,186,52\n",
      "아아,156,82\n",
      "나마,194,47\n",
      "사하,173,90\n",
      "마바,196,69\n",
      "자파,192,86\n",
      "자차,173,62\n",
      "카마,151,77\n",
      "나다,141,70\n",
      "파사,164,87\n",
      "다사,160,71\n",
      "라차,182,96\n",
      "다라,157,94\n",
      "차자,169,79\n",
      "타파,163,45\n",
      "가나,194,97\n",
      "바바,165,48\n",
      "타마,174,47\n",
      "파아,157,73\n",
      "타다,166,50\n",
      "바사,164,64\n",
      "아마,166,67\n",
      "바마,179,68\n",
      "타파,190,57\n",
      "마가,168,74\n",
      "가라,141,79\n",
      "타카,179,67\n",
      "가하,147,73\n",
      "가나,193,51\n",
      "파라,166,49\n",
      "사사,168,75\n",
      "차나,145,51\n",
      "라다,165,67\n",
      "라사,142,70\n",
      "마바,145,42\n",
      "라타,172,59\n",
      "하나,160,44\n",
      "라다,143,70\n",
      "자자,188,44\n",
      "나자,169,70\n",
      "바타,157,54\n",
      "나바,163,87\n",
      "다아,141,72\n",
      "사마,187,57\n",
      "바바,170,95\n",
      "라라,159,98\n",
      "가파,171,95\n",
      "자아,157,42\n",
      "마마,170,98\n",
      "가다,146,60\n",
      "나아,199,85\n",
      "라나,156,64\n",
      "차카,162,75\n",
      "차카,185,54\n",
      "사아,161,88\n",
      "타가,164,55\n",
      "아나,167,96\n",
      "자타,189,73\n",
      "라마,171,57\n",
      "아하,147,46\n",
      "나차,175,42\n",
      "아파,142,54\n",
      "타사,178,87\n",
      "가가,171,63\n",
      "카가,169,72\n",
      "아나,177,41\n",
      "바아,142,91\n",
      "라라,152,76\n",
      "마차,196,91\n",
      "카마,195,62\n",
      "자라,164,54\n",
      "차마,156,49\n",
      "아라,162,80\n",
      "카파,190,87\n",
      "하바,174,84\n",
      "다차,152,70\n",
      "아마,161,46\n",
      "아자,191,82\n",
      "사자,171,45\n",
      "카라,154,56\n",
      "라바,168,85\n",
      "파사,163,80\n",
      "하다,154,77\n",
      "차타,153,42\n",
      "라타,177,49\n",
      "가타,165,48\n",
      "자마,148,88\n",
      "다나,182,80\n",
      "바다,158,51\n",
      "마바,189,49\n",
      "자사,141,48\n",
      "차하,172,89\n",
      "라파,157,85\n",
      "파바,164,73\n",
      "나나,168,87\n",
      "바가,189,53\n",
      "하카,142,90\n",
      "마다,190,97\n",
      "파다,160,97\n",
      "다카,148,41\n",
      "바나,177,80\n",
      "마파,189,95\n",
      "하바,168,50\n",
      "아파,173,60\n",
      "카파,180,53\n",
      "파차,151,76\n",
      "가라,140,79\n",
      "나하,179,66\n",
      "타마,150,85\n",
      "라사,184,74\n",
      "사자,152,42\n",
      "파라,192,46\n",
      "카카,198,56\n",
      "타바,181,86\n",
      "마타,176,95\n",
      "마라,194,93\n",
      "마다,155,92\n",
      "자라,145,79\n",
      "가아,197,62\n",
      "바나,145,62\n",
      "사가,142,76\n",
      "파다,188,75\n",
      "파파,189,80\n",
      "나차,146,43\n",
      "아사,160,94\n",
      "사나,199,80\n",
      "라아,168,66\n",
      "나아,144,64\n",
      "아나,159,45\n",
      "하바,192,68\n",
      "라사,150,61\n",
      "다자,168,89\n",
      "나아,189,51\n",
      "타하,195,81\n",
      "하하,164,67\n",
      "타차,193,84\n",
      "파카,168,78\n",
      "파가,155,53\n",
      "바카,166,75\n",
      "\n"
     ]
    }
   ],
   "source": [
    "with open(\"info.txt\",'r') as file:\n",
    "    data = file.read()\n",
    "    print(data)"
   ]
  },
  {
   "cell_type": "code",
   "execution_count": null,
   "id": "fbd9c737",
   "metadata": {},
   "outputs": [],
   "source": [
    "# Q. 내장함수를 이용해서 list = [0, 1, 2, 3, 4, 5, 6]에서 2를 삭제 후 출력하세요."
   ]
  },
  {
   "cell_type": "code",
   "execution_count": null,
   "id": "db2fcf00",
   "metadata": {},
   "outputs": [],
   "source": [
    "# Q. 내장함수를 이용해서 list = [0, 1, 2, 3, 4, 5, 6]에서 모든 원소를 삭제 후 \n",
    "# 출력하세요."
   ]
  },
  {
   "cell_type": "code",
   "execution_count": null,
   "id": "df9e669f",
   "metadata": {},
   "outputs": [],
   "source": [
    "# Q. list = [0, 1, 2, 3, 4, 5, 6]에 3, 7이 포함되어 있는 지 확인하세요."
   ]
  },
  {
   "cell_type": "code",
   "execution_count": null,
   "id": "dae046e6",
   "metadata": {},
   "outputs": [],
   "source": [
    "# Q. numbers 내부에 들어 있는 숫자가 몇 번 등장하는지를 출력하는 코드를 작성하세요.\n",
    "numbers = [3,6,3,5,8,2,9,7,4,3,6,3,5,8,2,9,7,4]"
   ]
  },
  {
   "cell_type": "code",
   "execution_count": null,
   "id": "94ad41b1",
   "metadata": {},
   "outputs": [],
   "source": [
    "# Q. list를 [6, 5, 4, 3, 2, 1, 0]으로 출력하세요(2가지 방법)\n",
    "list = [0, 1, 2, 3, 4, 5, 6]"
   ]
  },
  {
   "cell_type": "code",
   "execution_count": null,
   "id": "4f3a7710",
   "metadata": {},
   "outputs": [],
   "source": [
    "# Q. list = ['a','b','c']을 for문을 사용해서 아래와 같이 출력하세요.\n",
    "# 1번째는 a입니다.\n",
    "# 2번째는 b입니다.\n",
    "# 3번째는 c입니다."
   ]
  },
  {
   "cell_type": "code",
   "execution_count": 103,
   "id": "47441285",
   "metadata": {},
   "outputs": [
    {
     "name": "stdout",
     "output_type": "stream",
     "text": [
      "[0, 4, 16, 36, 64, 100, 144, 196, 256, 324]\n"
     ]
    }
   ],
   "source": [
    "# Q. 코딩을 한줄로 작성해서 동일한 결과를 출력하세요\n",
    "list = []\n",
    "for i in range(0,20,2):\n",
    "    list.append(i*i)\n",
    "print(list)"
   ]
  },
  {
   "cell_type": "code",
   "execution_count": null,
   "id": "e19b1cbb",
   "metadata": {},
   "outputs": [],
   "source": [
    "# Q. list = [0, 1, 2, 3, 4, 5, 6, 7, 8, 9]에서 아래와 같이 출력하세요\n",
    "list = [0, 1, 2, 3, 4, 5, 6, 7, 8, 9]\n",
    "# [0, 2, 4, 6, 8]\n",
    "# [1, 3, 5, 7, 9]\n",
    "# [2, 1, 0]"
   ]
  },
  {
   "cell_type": "code",
   "execution_count": null,
   "id": "03bdf339",
   "metadata": {},
   "outputs": [],
   "source": [
    "# Q. join 함수를 이용해서 ['a','b','c']을 아래와 같이 출력하세요.\n",
    "# a::b::c"
   ]
  },
  {
   "cell_type": "code",
   "execution_count": null,
   "id": "16931fef",
   "metadata": {},
   "outputs": [],
   "source": [
    "# Q. 사용자 함수를 이용해서 여러개의 숫자를 입력하면 그 숫자들의 곱을 구하세요."
   ]
  },
  {
   "cell_type": "code",
   "execution_count": null,
   "id": "d711c459",
   "metadata": {},
   "outputs": [],
   "source": [
    "# Q.두개의 숫자를 인자로 적용하면 4칙 연산을 수행하는 사용자 함수를 작성한 후 \n",
    "# 5,3을 대입한 결과를 튜플로 출력하세요. 단, 소수점은 없게 처리"
   ]
  },
  {
   "cell_type": "code",
   "execution_count": null,
   "id": "2c472b55",
   "metadata": {},
   "outputs": [],
   "source": [
    "# Q. 뺄셈, 나눗셈 멀티 계산 함수를 작성"
   ]
  },
  {
   "cell_type": "code",
   "execution_count": null,
   "id": "94805ca5",
   "metadata": {},
   "outputs": [],
   "source": [
    "# Q. 아래를 완성하여 2를 출력하세요.\n",
    "a = 3\n",
    "def vartest(a):\n",
    "    a -= 1"
   ]
  },
  {
   "cell_type": "code",
   "execution_count": null,
   "id": "035f39af",
   "metadata": {},
   "outputs": [],
   "source": [
    "# Q. 데이터를 입력하지 않으면 종료되는 코딩을 수행하세요. \n",
    "# 단 반복적으로 작업을 수행할 수 있음."
   ]
  },
  {
   "cell_type": "code",
   "execution_count": null,
   "id": "c1988d77",
   "metadata": {},
   "outputs": [],
   "source": [
    "# Q. 반복문으로 팩토리얼을 구하는 사용자 함수를 작성하고 5!, 10!를 구하세요."
   ]
  },
  {
   "cell_type": "code",
   "execution_count": null,
   "id": "cc5fba04",
   "metadata": {},
   "outputs": [],
   "source": [
    "# Q. 재귀란 '자기자신을 호출하는 것'을 의미한다. 재귀함수를 이용해서 팩토리얼을 구하는 사용자 함수를 \n",
    "# 작성하고 1!, 5!, 10!를 구하세요.\n",
    "# factorial(n) = n * factorial(n-1) (n >= 1)"
   ]
  },
  {
   "cell_type": "code",
   "execution_count": null,
   "id": "612e5d21",
   "metadata": {},
   "outputs": [],
   "source": [
    "# Q. 원의 면적과 둘레의 길이를 구하는 사용자 함수를 작성하여 반지름이 5와 10일때 \n",
    "# 면적과 둘레를 구하세요"
   ]
  },
  {
   "cell_type": "code",
   "execution_count": null,
   "id": "1a2f97cb",
   "metadata": {},
   "outputs": [],
   "source": [
    "# Q. '안녕!'을 10번 출력하는 사용자 함수를 작성하여 실행하세요."
   ]
  },
  {
   "cell_type": "code",
   "execution_count": null,
   "id": "d427d990",
   "metadata": {},
   "outputs": [],
   "source": [
    "# Q. 내장함수를 이용하여 [1,2,3,4,5]을 [1.0, 2.0, 3.0, 4.0, 5.0]로 변환하세요."
   ]
  },
  {
   "cell_type": "code",
   "execution_count": null,
   "id": "e989dc0a",
   "metadata": {},
   "outputs": [],
   "source": [
    "# Q. 내장함수 map()를 이용하여 [1,2,3,4,5]을 [1, 4, 9, 16, 25]로 변환하세요"
   ]
  }
 ],
 "metadata": {
  "kernelspec": {
   "display_name": "Python 3",
   "language": "python",
   "name": "python3"
  },
  "language_info": {
   "codemirror_mode": {
    "name": "ipython",
    "version": 3
   },
   "file_extension": ".py",
   "mimetype": "text/x-python",
   "name": "python",
   "nbconvert_exporter": "python",
   "pygments_lexer": "ipython3",
   "version": "3.8.10"
  }
 },
 "nbformat": 4,
 "nbformat_minor": 5
}
