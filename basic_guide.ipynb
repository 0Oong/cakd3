{
 "cells": [
  {
   "cell_type": "markdown",
   "id": "4d8529cc",
   "metadata": {},
   "source": [
    "## 파이썬 기초"
   ]
  },
  {
   "cell_type": "markdown",
   "id": "baa52377",
   "metadata": {},
   "source": [
    "#### 파이썬 이란\n",
    "- 1990년 암스테르담의 귀도 반 로섬(Guido Van Rossum)이 개발한 인터프리터 언어\n",
    "- 컴퓨터 프로그래밍 교육을 위해 많이 사용하지만, 기업의 실무를 위해서도 많이 사용하는 언어. 구글에서 만든 소프트웨어의 50%이상이 파이썬으로 작성\n",
    "\n",
    "#### 파이썬의 특징\n",
    "- 파이썬은 인간다운 언어이다\n",
    "- 파이썬은 문법이 쉬워 빠르게 배울 수 있다\n",
    "- 파이썬은 무료이지만 강력하다\n",
    "- 파이썬은 간결하다\n",
    "- 파이썬은 프로그래밍을 즐기게 해준다\n",
    "- 파이썬은 개발 속도가 빠르다\n",
    "\n",
    "#### 파이썬으로 할 수 있는 일\n",
    "- 시스템 유틸리티 제작\n",
    "- GUI 프로그래밍\n",
    "- C/C++와의 결합\n",
    "- 웹 프로그래밍\n",
    "- 수치 연산 프로그래밍\n",
    "- 데이터베이스 프로그래밍\n",
    "- 데이터 분석, 사물 인터넷\n",
    "\n",
    "#### 참조\n",
    "- 표현식 : 어떠한 값을 만들어 내는 간단한 코드. 273, 10 + 20 + 30, \"Python Programming\"\n",
    "- 문장 : 표현식이 하나 이상 모이면 문장. print(\"Hello\")\n",
    "- 프로그램 : 문장이 모여서 프로그램\n",
    "- 식별자 : 프로그램밍 언어에서 이름을 붙일 때 사용하는 단어. 주로 변수 또는 함수 이름 등으로 사용\n",
    "- 주석 : 프로그램을 설명하기 위해 사용. # 기호로 주석 처리\n",
    "- 연산자 : 스스로 값이 되는 것이 아니고 값과 값 사이에 무언가 기능을 적용할 때 사용\n",
    "- 자료 : 리터럴이라고 하는데 숫자이든 문자이든 어떠한 값 자체를 의미. 1, 10, \"Hello\"\n",
    "- 키워드 : 파이썬이 만들어질 때 이미 사용하겠다고 예약해 놓는 것. False, None, True, ...\n",
    "- 프로그램밍 언어에서 사용자가 이름을 정할 때 키워드는 사용할 수 없음"
   ]
  },
  {
   "cell_type": "code",
   "execution_count": 3,
   "id": "7183f1db",
   "metadata": {},
   "outputs": [
    {
     "name": "stdout",
     "output_type": "stream",
     "text": [
      "Python 3.8.10\n"
     ]
    }
   ],
   "source": [
    "!python -V"
   ]
  },
  {
   "cell_type": "code",
   "execution_count": 7,
   "id": "39091224",
   "metadata": {},
   "outputs": [
    {
     "name": "stdout",
     "output_type": "stream",
     "text": [
      "273\n",
      "60\n"
     ]
    },
    {
     "data": {
      "text/plain": [
       "'python programming'"
      ]
     },
     "execution_count": 7,
     "metadata": {},
     "output_type": "execute_result"
    }
   ],
   "source": [
    "# 표현식\n",
    "print(273)\n",
    "print(10+20+30)\n",
    "\"python programming\""
   ]
  },
  {
   "cell_type": "code",
   "execution_count": 8,
   "id": "dd8ac23c",
   "metadata": {},
   "outputs": [
    {
     "name": "stdout",
     "output_type": "stream",
     "text": [
      "52 Hello Python 8\n"
     ]
    }
   ],
   "source": [
    "# 표현식이 하나 이상씩 모이면 문장\n",
    "print(52, 'Hello Python', 5+3)"
   ]
  },
  {
   "cell_type": "code",
   "execution_count": 10,
   "id": "c0dbd1ec",
   "metadata": {},
   "outputs": [
    {
     "name": "stdout",
     "output_type": "stream",
     "text": [
      "3\n"
     ]
    }
   ],
   "source": [
    "# 문장이 모여서 프로그램\n",
    "a=1;b=2;c=a+b;\n",
    "print(c)"
   ]
  },
  {
   "cell_type": "code",
   "execution_count": 11,
   "id": "3ee4147e",
   "metadata": {},
   "outputs": [
    {
     "name": "stdout",
     "output_type": "stream",
     "text": [
      "['False', 'None', 'True', 'and', 'as', 'assert', 'async', 'await', 'break', 'class', 'continue', 'def', 'del', 'elif', 'else', 'except', 'finally', 'for', 'from', 'global', 'if', 'import', 'in', 'is', 'lambda', 'nonlocal', 'not', 'or', 'pass', 'raise', 'return', 'try', 'while', 'with', 'yield']\n"
     ]
    }
   ],
   "source": [
    "# keyword\n",
    "import keyword\n",
    "print(keyword.kwlist)"
   ]
  },
  {
   "cell_type": "markdown",
   "id": "e078cd03",
   "metadata": {},
   "source": [
    "식별자 기본 규칙\n",
    "- 키워드를 사용하면 안된다.\n",
    "- 특수문자는 언더 바(_) 만 사용한다.\n",
    "- 숫자로 시작하면 안된다.\n",
    "- 공백을 포함할 수 없다."
   ]
  },
  {
   "cell_type": "code",
   "execution_count": null,
   "id": "a6c23873",
   "metadata": {},
   "outputs": [],
   "source": [
    "alpha\n",
    "break # 키워드\n",
    "alpha10\n",
    "_alpha\n",
    "273alpha # 숫자\n",
    "AlpHa\n",
    "ALPHA\n",
    "has space # 공백"
   ]
  },
  {
   "cell_type": "markdown",
   "id": "7280c7c9",
   "metadata": {},
   "source": [
    "파이썬은 snake_case와 CamelCase를 모두 사용\n",
    "- itemlist     item_list     ItemList\n",
    "- loginstatus  login_status  LoginStatus\n",
    "- 캐멀 케이스(대문자로 시작) 클래스\n",
    "- 스네이크 케이스(소문자로 시작) 뒤에 ()가 있다 - 함수\n",
    "- 스네이크 케이스(소문자로 시작) 뒤에 ()가 없다 - 변수"
   ]
  },
  {
   "cell_type": "code",
   "execution_count": 12,
   "id": "57dd79be",
   "metadata": {},
   "outputs": [
    {
     "name": "stdout",
     "output_type": "stream",
     "text": [
      "3이 있습니다\n"
     ]
    }
   ],
   "source": [
    "# 사람이 생각하는 방식을 그대로 표현할 수 있는 언어\n",
    "if 3 in [1,2,3,4]: print('3이 있습니다')"
   ]
  },
  {
   "cell_type": "code",
   "execution_count": 13,
   "id": "8c0abc62",
   "metadata": {},
   "outputs": [
    {
     "name": "stdout",
     "output_type": "stream",
     "text": [
      "123\n",
      "-123\n",
      "0\n",
      "1.23\n",
      "127\n",
      "2748\n"
     ]
    }
   ],
   "source": [
    "# 파이썬 자료형 - 숫자형(정수, 실수, 8진수, 16진수)\n",
    "a = 123\n",
    "b = -123\n",
    "c = 0\n",
    "d = 1.23\n",
    "e = 0o177 # 8진수 0O 또는 00으로 시작\n",
    "f = 0xABC # 16진수 0x로 시작\n",
    "print(a)\n",
    "print(b)\n",
    "print(c)\n",
    "print(d)\n",
    "print(e)\n",
    "print(f)"
   ]
  },
  {
   "cell_type": "code",
   "execution_count": 15,
   "id": "4bb827c0",
   "metadata": {},
   "outputs": [
    {
     "name": "stdout",
     "output_type": "stream",
     "text": [
      "10\n",
      "2\n",
      "12\n",
      "20\n",
      "5.0\n",
      "0\n",
      "5\n",
      "8\n"
     ]
    }
   ],
   "source": [
    "# 사칙연산\n",
    "a = 10\n",
    "b = 2\n",
    "c = a + b\n",
    "d = a * b\n",
    "e = a / b\n",
    "f = a % b  # 나머지\n",
    "g = a // b # 몫\n",
    "h = 2 ** 3 # 제곱\n",
    "print(a)\n",
    "print(b)\n",
    "print(c)\n",
    "print(d)\n",
    "print(e)\n",
    "print(f)\n",
    "print(g)\n",
    "print(h)"
   ]
  },
  {
   "cell_type": "code",
   "execution_count": 19,
   "id": "45a6a369",
   "metadata": {},
   "outputs": [
    {
     "ename": "TypeError",
     "evalue": "can only concatenate str (not \"int\") to str",
     "output_type": "error",
     "traceback": [
      "\u001b[1;31m---------------------------------------------------------------------------\u001b[0m",
      "\u001b[1;31mTypeError\u001b[0m                                 Traceback (most recent call last)",
      "\u001b[1;32m<ipython-input-19-264f3eee254a>\u001b[0m in \u001b[0;36m<module>\u001b[1;34m\u001b[0m\n\u001b[0;32m      2\u001b[0m \u001b[0mstring\u001b[0m \u001b[1;33m=\u001b[0m \u001b[1;34m\"문자열 \"\u001b[0m\u001b[1;33m\u001b[0m\u001b[1;33m\u001b[0m\u001b[0m\n\u001b[0;32m      3\u001b[0m \u001b[0mnumber\u001b[0m \u001b[1;33m=\u001b[0m \u001b[1;36m273\u001b[0m\u001b[1;33m\u001b[0m\u001b[1;33m\u001b[0m\u001b[0m\n\u001b[1;32m----> 4\u001b[1;33m \u001b[0mstring\u001b[0m \u001b[1;33m+\u001b[0m \u001b[0mnumber\u001b[0m\u001b[1;33m\u001b[0m\u001b[1;33m\u001b[0m\u001b[0m\n\u001b[0m",
      "\u001b[1;31mTypeError\u001b[0m: can only concatenate str (not \"int\") to str"
     ]
    }
   ],
   "source": [
    "# 다른 타입간 연산은 안됨\n",
    "string = \"문자열 \"\n",
    "number = 273\n",
    "string + number"
   ]
  },
  {
   "cell_type": "code",
   "execution_count": 21,
   "id": "36e39552",
   "metadata": {},
   "outputs": [
    {
     "data": {
      "text/plain": [
       "int"
      ]
     },
     "execution_count": 21,
     "metadata": {},
     "output_type": "execute_result"
    }
   ],
   "source": [
    "a = 10\n",
    "a = \"문자\"\n",
    "a = 100\n",
    "type(a)"
   ]
  },
  {
   "cell_type": "code",
   "execution_count": 24,
   "id": "ff3f39f3",
   "metadata": {},
   "outputs": [
    {
     "data": {
      "text/plain": [
       "200"
      ]
     },
     "execution_count": 24,
     "metadata": {},
     "output_type": "execute_result"
    }
   ],
   "source": [
    "# 복합 대입 연산자\n",
    "num = 10\n",
    "num += 10\n",
    "num *= 10\n",
    "num"
   ]
  },
  {
   "cell_type": "code",
   "execution_count": 26,
   "id": "3a979a46",
   "metadata": {},
   "outputs": [
    {
     "name": "stdout",
     "output_type": "stream",
     "text": [
      "인사말을 입력하세요: 안녕하세요.\n"
     ]
    },
    {
     "data": {
      "text/plain": [
       "'안녕하세요.'"
      ]
     },
     "execution_count": 26,
     "metadata": {},
     "output_type": "execute_result"
    }
   ],
   "source": [
    "# 사용자 입력\n",
    "input('인사말을 입력하세요: ')"
   ]
  },
  {
   "cell_type": "code",
   "execution_count": 28,
   "id": "581ee25c",
   "metadata": {},
   "outputs": [
    {
     "name": "stdout",
     "output_type": "stream",
     "text": [
      "숫자를 입력하세요: 5\n",
      "5\n"
     ]
    },
    {
     "data": {
      "text/plain": [
       "str"
      ]
     },
     "execution_count": 28,
     "metadata": {},
     "output_type": "execute_result"
    }
   ],
   "source": [
    "num = input('숫자를 입력하세요: ')\n",
    "print(num)\n",
    "type(num)"
   ]
  },
  {
   "cell_type": "code",
   "execution_count": 29,
   "id": "9cae784e",
   "metadata": {},
   "outputs": [
    {
     "name": "stdout",
     "output_type": "stream",
     "text": [
      "숫자를 입력하세요5\n",
      "숫자를 입력하세요5\n",
      "55\n"
     ]
    }
   ],
   "source": [
    "num1 = input('숫자를 입력하세요')\n",
    "num2 = input('숫자를 입력하세요')\n",
    "print(num1 + num2)"
   ]
  },
  {
   "cell_type": "code",
   "execution_count": 30,
   "id": "de973308",
   "metadata": {},
   "outputs": [
    {
     "name": "stdout",
     "output_type": "stream",
     "text": [
      "숫자를 입력하세요5\n",
      "숫자를 입력하세요5\n",
      "10\n"
     ]
    }
   ],
   "source": [
    "# input() 함수를 사용하면 숫자도 문자로 전환되어 숫자연산을 위한 변환 필요\n",
    "num1 = input('숫자를 입력하세요')\n",
    "num1_n = int(num1)\n",
    "num2 = input('숫자를 입력하세요')\n",
    "num2_n = int(num2)\n",
    "print(num1_n + num2_n)"
   ]
  },
  {
   "cell_type": "code",
   "execution_count": null,
   "id": "c8958268",
   "metadata": {},
   "outputs": [],
   "source": [
    "# Q. 3과 3.3을 입력하고 숫자 연산을 수행하여 6.3을 출력하세요."
   ]
  },
  {
   "cell_type": "code",
   "execution_count": 31,
   "id": "de0c1442",
   "metadata": {},
   "outputs": [
    {
     "name": "stdout",
     "output_type": "stream",
     "text": [
      "입력A> 3\n",
      "입력B> 3.3\n",
      "6.3\n"
     ]
    }
   ],
   "source": [
    "# A.\n",
    "String_a = input(\"입력A> \")\n",
    "int_a = int(String_a)\n",
    "String_b = input(\"입력B> \")\n",
    "float_b = float(String_b)\n",
    "print(int_a + float_b)"
   ]
  },
  {
   "cell_type": "code",
   "execution_count": null,
   "id": "053ea39e",
   "metadata": {},
   "outputs": [],
   "source": [
    "# Q. a = 52와 b = 52.273일때 a+b는 5252.273으로 출력되도록 a와 b를 문자열 \n",
    "# 자료형으로 변환하세요."
   ]
  },
  {
   "cell_type": "code",
   "execution_count": 32,
   "id": "6aed79fc",
   "metadata": {},
   "outputs": [
    {
     "name": "stdout",
     "output_type": "stream",
     "text": [
      "5252.273\n"
     ]
    }
   ],
   "source": [
    "# A.\n",
    "a = str(52)\n",
    "b = str(52.273)\n",
    "print(a+b)"
   ]
  },
  {
   "cell_type": "code",
   "execution_count": 36,
   "id": "4aae9fd7",
   "metadata": {},
   "outputs": [
    {
     "name": "stdout",
     "output_type": "stream",
     "text": [
      "python's value is great\n"
     ]
    }
   ],
   "source": [
    "# 문자열 : \"\", '', \"\"\" \"\"\", ''' '''\n",
    "p1 = \"python's value is great\"\n",
    "# p2 = 'python's value is great'\n",
    "print(p1)"
   ]
  },
  {
   "cell_type": "code",
   "execution_count": 37,
   "id": "fe6884a2",
   "metadata": {},
   "outputs": [
    {
     "data": {
      "text/plain": [
       "'\"python is valuable\" he says'"
      ]
     },
     "execution_count": 37,
     "metadata": {},
     "output_type": "execute_result"
    }
   ],
   "source": [
    "s1 = '\"python is valuable\" he says'\n",
    "s1"
   ]
  },
  {
   "cell_type": "code",
   "execution_count": 38,
   "id": "a25c5497",
   "metadata": {},
   "outputs": [
    {
     "data": {
      "text/plain": [
       "\"python's value is great\""
      ]
     },
     "execution_count": 38,
     "metadata": {},
     "output_type": "execute_result"
    }
   ],
   "source": [
    "s2 = 'python\\'s value is great'\n",
    "s2"
   ]
  },
  {
   "cell_type": "code",
   "execution_count": 41,
   "id": "9c4c0dc5",
   "metadata": {},
   "outputs": [
    {
     "name": "stdout",
     "output_type": "stream",
     "text": [
      "Once you study data analysis\n",
      "You need Pythin\n",
      "Once you study data analysis\n",
      "You need Pythin\n",
      "nce you study data analysis\n",
      "You need Pythin\n"
     ]
    }
   ],
   "source": [
    "y1 = \"Once you study data analysis\\nYou need Pythin\"\n",
    "print(y1)\n",
    "y2 = '''Once you study data analysis\n",
    "You need Pythin'''\n",
    "print(y2)\n",
    "y3 = \"\"\"nce you study data analysis\n",
    "You need Pythin\"\"\"\n",
    "print(y3)"
   ]
  },
  {
   "cell_type": "code",
   "execution_count": 44,
   "id": "26e88c82",
   "metadata": {},
   "outputs": [
    {
     "name": "stdout",
     "output_type": "stream",
     "text": [
      "Python is easy to learn\n",
      "PythonPythonPython\n",
      "====================\n"
     ]
    }
   ],
   "source": [
    "# 문자열 연산\n",
    "a1 = 'Python'\n",
    "a2 = ' is easy to learn'\n",
    "print(a1 + a2)\n",
    "print(a1 * 3)\n",
    "print(\"=\" * 20)"
   ]
  },
  {
   "cell_type": "code",
   "execution_count": 45,
   "id": "0422db75",
   "metadata": {},
   "outputs": [
    {
     "name": "stdout",
     "output_type": "stream",
     "text": [
      "[1, 'a', 'abc', [1, 2, 3, 4, 5], ['a', 'b', 'c']]\n"
     ]
    }
   ],
   "source": [
    "# 자료형 - List\n",
    "# 리스트는 [] 로 표시하며 []안의 요소를 콤마로 구분하여 순서있게 나열\n",
    "list1 = [1,2,3,4,5]\n",
    "list2 = ['a','b','c']\n",
    "list3 = [1,'a','abc',[1,2,3,4,5],['a','b','c']]\n",
    "print(list3)"
   ]
  },
  {
   "cell_type": "code",
   "execution_count": 55,
   "id": "8966f686",
   "metadata": {},
   "outputs": [
    {
     "data": {
      "text/plain": [
       "'b'"
      ]
     },
     "execution_count": 55,
     "metadata": {},
     "output_type": "execute_result"
    }
   ],
   "source": [
    "# 인덱싱\n",
    "list1 = [1,2,3,4,5]\n",
    "list1[:]\n",
    "list3[2]\n",
    "list3[3][4]\n",
    "list3[4][1]"
   ]
  },
  {
   "cell_type": "code",
   "execution_count": 61,
   "id": "1b5f20c5",
   "metadata": {},
   "outputs": [
    {
     "name": "stdout",
     "output_type": "stream",
     "text": [
      "[1, 1, 2, 3, 4, 5, 6, 7, 8, 9]\n",
      "['a', 'a', 'c']\n",
      "['a', 'c']\n"
     ]
    }
   ],
   "source": [
    "# 리스트 수정, 삭제\n",
    "\n",
    "a = [0, 1, 2, 3, 4, 5, 6, 7, 8, 9]\n",
    "b = ['a','b','c']\n",
    "a[0] = 1\n",
    "print(a)\n",
    "b[1] = 'a'\n",
    "print(b)\n",
    "del b[0]\n",
    "print(b)"
   ]
  },
  {
   "cell_type": "code",
   "execution_count": 63,
   "id": "5243e0e1",
   "metadata": {},
   "outputs": [
    {
     "data": {
      "text/plain": [
       "[1, 1, 2, 3, 4, 5, 6, 7, 8, 9, 'a', 1]"
      ]
     },
     "execution_count": 63,
     "metadata": {},
     "output_type": "execute_result"
    }
   ],
   "source": [
    "c = a + b\n",
    "c[-1] = 1\n",
    "c"
   ]
  },
  {
   "cell_type": "code",
   "execution_count": 64,
   "id": "ca0e9f04",
   "metadata": {},
   "outputs": [
    {
     "data": {
      "text/plain": [
       "[1, 1, 2, 3, 4, 5, 6, 7, 8, 9, 2, 1]"
      ]
     },
     "execution_count": 64,
     "metadata": {},
     "output_type": "execute_result"
    }
   ],
   "source": [
    "c[-2] = 2\n",
    "c"
   ]
  },
  {
   "cell_type": "code",
   "execution_count": 68,
   "id": "5b1090e5",
   "metadata": {},
   "outputs": [
    {
     "name": "stdout",
     "output_type": "stream",
     "text": [
      "[1, 1, 1, 2, 2, 3, 4, 5, 6, 7, 8, 9]\n",
      "[9, 8, 7, 6, 5, 4, 3, 2, 2, 1, 1, 1]\n",
      "[9, 8, 7, 6, 5, 4, 3, 2, 2, 1, 1, 1]\n"
     ]
    }
   ],
   "source": [
    "s = [1, 1, 2, 3, 4, 5, 6, 7, 8, 9, 2, 1]\n",
    "s.sort()\n",
    "print(s)\n",
    "# 내림차순\n",
    "s_d = sorted(s, reverse=True)\n",
    "print(s_d)\n",
    "s.reverse()\n",
    "print(s)"
   ]
  },
  {
   "cell_type": "code",
   "execution_count": 73,
   "id": "5e474645",
   "metadata": {},
   "outputs": [
    {
     "name": "stdout",
     "output_type": "stream",
     "text": [
      "[73, 22, 99, 62, 4, 88, 72, 57, 47, 36, 46, 57, 91, 43, 60, 86, 20, 69, 1, 82, 89, 58, 9, 37, 85, 77, 2, 65, 42, 63, 85, 13, 78, 27, 37, 8, 11, 47, 69, 13, 24, 51, 24, 54, 21, 90, 0, 16, 95, 89, 1, 40, 76, 49, 27, 23, 63, 3, 16, 28, 97, 87, 74, 88, 34, 71, 63, 50, 23, 11, 8, 56, 59, 40, 16, 25, 72, 17, 68, 34, 35, 16, 3, 47, 17, 14, 87, 14, 27, 94, 19, 38, 94, 44, 65, 54, 83, 27, 20, 65]\n"
     ]
    },
    {
     "data": {
      "text/plain": [
       "27"
      ]
     },
     "execution_count": 73,
     "metadata": {},
     "output_type": "execute_result"
    }
   ],
   "source": [
    "# 인덱스 위치 반환\n",
    "import numpy as np\n",
    "c = np.random.randint(100, size=100).tolist()\n",
    "print(c)\n",
    "c.index(65)"
   ]
  },
  {
   "cell_type": "code",
   "execution_count": 74,
   "id": "b9cbbfe4",
   "metadata": {},
   "outputs": [
    {
     "name": "stdout",
     "output_type": "stream",
     "text": [
      "3\n"
     ]
    }
   ],
   "source": [
    "# 개수 반환\n",
    "c = [1,1,3,3,3,5,5]\n",
    "print(c.count(3))"
   ]
  },
  {
   "cell_type": "code",
   "execution_count": 76,
   "id": "10a728e5",
   "metadata": {},
   "outputs": [
    {
     "name": "stdout",
     "output_type": "stream",
     "text": [
      "[1, 2, 3, 4, 5]\n",
      "[1, 2, 3, 4, 5, 6]\n"
     ]
    }
   ],
   "source": [
    "# 리스트 확장\n",
    "h = [1,2,3]\n",
    "h.extend([4,5])\n",
    "print(h)\n",
    "# 추가\n",
    "h.append(6)\n",
    "print(h)"
   ]
  },
  {
   "cell_type": "code",
   "execution_count": 77,
   "id": "18115e31",
   "metadata": {},
   "outputs": [
    {
     "data": {
      "text/plain": [
       "'b'"
      ]
     },
     "execution_count": 77,
     "metadata": {},
     "output_type": "execute_result"
    }
   ],
   "source": [
    "# 튜플\n",
    "tuple1 = (1,2,3,4,5)\n",
    "tuple2 = ('a','b','c')\n",
    "tuple3 = (1,'a','abc',[1,2,3,4,5],['a','b','c'])\n",
    "\n",
    "tuple1[:]\n",
    "tuple3[2]\n",
    "tuple3[3][4]\n",
    "tuple3[4][1]"
   ]
  },
  {
   "cell_type": "code",
   "execution_count": 78,
   "id": "98cf7da6",
   "metadata": {},
   "outputs": [
    {
     "name": "stdout",
     "output_type": "stream",
     "text": [
      "[6, 2, 3, 4, 5]\n"
     ]
    }
   ],
   "source": [
    "list1[0] = 6\n",
    "print(list1)"
   ]
  },
  {
   "cell_type": "code",
   "execution_count": 79,
   "id": "3bd605aa",
   "metadata": {},
   "outputs": [
    {
     "ename": "TypeError",
     "evalue": "'tuple' object does not support item assignment",
     "output_type": "error",
     "traceback": [
      "\u001b[1;31m---------------------------------------------------------------------------\u001b[0m",
      "\u001b[1;31mTypeError\u001b[0m                                 Traceback (most recent call last)",
      "\u001b[1;32m<ipython-input-79-44cefd497762>\u001b[0m in \u001b[0;36m<module>\u001b[1;34m\u001b[0m\n\u001b[0;32m      1\u001b[0m \u001b[1;31m# 튜플의 요소 값은 변경할 수 없음 - 프로그램에서 그 값이 항상 변하지 않아야되는 경우 사용\u001b[0m\u001b[1;33m\u001b[0m\u001b[1;33m\u001b[0m\u001b[1;33m\u001b[0m\u001b[0m\n\u001b[1;32m----> 2\u001b[1;33m \u001b[0mtuple1\u001b[0m\u001b[1;33m[\u001b[0m\u001b[1;36m0\u001b[0m\u001b[1;33m]\u001b[0m \u001b[1;33m=\u001b[0m \u001b[1;36m6\u001b[0m\u001b[1;33m\u001b[0m\u001b[1;33m\u001b[0m\u001b[0m\n\u001b[0m\u001b[0;32m      3\u001b[0m \u001b[0mprint\u001b[0m\u001b[1;33m(\u001b[0m\u001b[0mtuple1\u001b[0m\u001b[1;33m)\u001b[0m\u001b[1;33m\u001b[0m\u001b[1;33m\u001b[0m\u001b[0m\n",
      "\u001b[1;31mTypeError\u001b[0m: 'tuple' object does not support item assignment"
     ]
    }
   ],
   "source": [
    "# 자료형 - Tuple\n",
    "# 튜플의 요소 값은 변경할 수 없음 - 프로그램에서 그 값이 항상 변하지 않아야되는 경우 사용\n",
    "tuple1[0] = 6\n",
    "print(tuple1)"
   ]
  },
  {
   "cell_type": "code",
   "execution_count": 85,
   "id": "f45b37a0",
   "metadata": {},
   "outputs": [
    {
     "name": "stdout",
     "output_type": "stream",
     "text": [
      "(1,)\n",
      "(1, 2, 3)\n",
      "(1, 2, 3, 1, 2, 3, 1, 2, 3)\n",
      "(1, 1, 2, 3)\n",
      "1\n"
     ]
    },
    {
     "data": {
      "text/plain": [
       "int"
      ]
     },
     "execution_count": 85,
     "metadata": {},
     "output_type": "execute_result"
    }
   ],
   "source": [
    "t1 = (1,) # 1개의 요소만 가질 때는 요소뒤에 콤마를 붙여야 함\n",
    "print(t1)\n",
    "t2 = 1,2,3\n",
    "print(t2)\n",
    "print(t2 * 3)\n",
    "t3 = t1 + t2\n",
    "print(t3)\n",
    "t4 = (1)\n",
    "print(t4)\n",
    "type(t4)"
   ]
  },
  {
   "cell_type": "code",
   "execution_count": 87,
   "id": "d0bf7f60",
   "metadata": {},
   "outputs": [
    {
     "name": "stdout",
     "output_type": "stream",
     "text": [
      "1\n",
      "{'a': 1, 'b': 5, 'c': 3}\n"
     ]
    }
   ],
   "source": [
    "# 자료형 - 사전(키와 값을 하나의 요소로 하는 순서가 없는 집합)\n",
    "d1 = {'a':1,'b':2,'c':3}\n",
    "print(d1['a'])\n",
    "d1['b'] = 5\n",
    "print(d1)"
   ]
  },
  {
   "cell_type": "code",
   "execution_count": 90,
   "id": "b22f4572",
   "metadata": {},
   "outputs": [
    {
     "name": "stdout",
     "output_type": "stream",
     "text": [
      "dict_keys(['a', 'b', 'c'])\n",
      "dict_values([1, 5, 3])\n",
      "dict_items([('a', 1), ('b', 5), ('c', 3)])\n"
     ]
    }
   ],
   "source": [
    "print(d1.keys())\n",
    "print(d1.values())\n",
    "print(d1.items())"
   ]
  },
  {
   "cell_type": "code",
   "execution_count": 91,
   "id": "ea926095",
   "metadata": {},
   "outputs": [
    {
     "name": "stdout",
     "output_type": "stream",
     "text": [
      "{1, 2, 3, 4, 5}\n",
      "{'H', 'l', 'e', 'o'}\n"
     ]
    }
   ],
   "source": [
    "# 자료형 - 집합, set(중복을 허용하지 않으며 순서가 없다.)\n",
    "s1 = set([1,2,5,4,3])\n",
    "s2 = set('Hello')\n",
    "print(s1)\n",
    "print(s2)"
   ]
  },
  {
   "cell_type": "code",
   "execution_count": 92,
   "id": "4e3a0c93",
   "metadata": {},
   "outputs": [
    {
     "name": "stdout",
     "output_type": "stream",
     "text": [
      "2\n",
      "l\n"
     ]
    }
   ],
   "source": [
    "# 집합은 인덱싱으로 값을 얻을 수 없으며 필요시 리스트나 튜플로 변환 후 인덱싱\n",
    "l1 = list(s1)\n",
    "print(l1[1])\n",
    "l2 = list(s2)\n",
    "print(l2[1])"
   ]
  },
  {
   "cell_type": "code",
   "execution_count": 94,
   "id": "ae4714ba",
   "metadata": {},
   "outputs": [],
   "source": [
    "# Q. s1, s2의 합집합과 교집합을 각각 리스트와 튜플로 출력하세요.\n",
    "# 합집합(s1 | s2), 교집합(s1 & s2)\n",
    "s1 = set([1, 2, 3, 4, 5, 6])\n",
    "s2 = set([4, 5, 6, 7, 8, 9])"
   ]
  },
  {
   "cell_type": "code",
   "execution_count": 95,
   "id": "3906ed68",
   "metadata": {},
   "outputs": [
    {
     "name": "stdout",
     "output_type": "stream",
     "text": [
      "[1, 2, 3, 4, 5, 6, 7, 8, 9]\n",
      "[4, 5, 6]\n"
     ]
    }
   ],
   "source": [
    "s3 = list(s1 | s2)\n",
    "s4 = list(s1 & s2)\n",
    "print(s3)\n",
    "print(s4)"
   ]
  },
  {
   "cell_type": "code",
   "execution_count": 98,
   "id": "d4634081",
   "metadata": {},
   "outputs": [
    {
     "name": "stdout",
     "output_type": "stream",
     "text": [
      "a가 li에 있습니다.\n"
     ]
    }
   ],
   "source": [
    "# 들여쓰기\n",
    "li = ['a','b','c']\n",
    "if 'a' in li:\n",
    "    print('a가 li에 있습니다.')\n",
    "else:\n",
    "    print('a가 li에 없습니다.')"
   ]
  },
  {
   "cell_type": "code",
   "execution_count": 100,
   "id": "56bb5972",
   "metadata": {},
   "outputs": [
    {
     "name": "stdout",
     "output_type": "stream",
     "text": [
      "홍길동 선수가 1등입니다.\n",
      "홍길동 선수가 1등입니다.\n"
     ]
    }
   ],
   "source": [
    "# 포멧함수\n",
    "f1 = \"{} 선수가 {}등입니다.\".format('홍길동',1)\n",
    "print(f1)\n",
    "print(\"%s 선수가 %d등입니다.\" %(\"홍길동\",1))"
   ]
  },
  {
   "cell_type": "code",
   "execution_count": null,
   "id": "e5ce77d7",
   "metadata": {},
   "outputs": [],
   "source": [
    "파이썬은 자바보다 2배 쉽습니다."
   ]
  },
  {
   "cell_type": "code",
   "execution_count": 102,
   "id": "e768e751",
   "metadata": {},
   "outputs": [
    {
     "name": "stdout",
     "output_type": "stream",
     "text": [
      "파이썬은 자바보다 2배 쉽습니다.\n",
      "파이썬은 자바보다 2배 쉽습니다.\n"
     ]
    }
   ],
   "source": [
    "ex1 = \"{}은 {}보다 {}배 쉽습니다.\".format('파이썬','자바',2)\n",
    "print(ex1)\n",
    "print(\"%s은 %s보다 %d배 쉽습니다.\" %('파이썬','자바',2))"
   ]
  },
  {
   "cell_type": "code",
   "execution_count": 107,
   "id": "b6b04c7f",
   "metadata": {},
   "outputs": [
    {
     "name": "stdout",
     "output_type": "stream",
     "text": [
      "12345\n",
      "     12345\n",
      "12.345679\n",
      "          12.35\n"
     ]
    }
   ],
   "source": [
    "ex2 = 12345\n",
    "f2 = '{:d}'.format(ex2)\n",
    "print(f2)\n",
    "f3 = '{:10d}'.format(ex2)\n",
    "print(f3)\n",
    "ex3 = 12.3456789\n",
    "f4 = '{:f}'.format(ex3)\n",
    "print(f4)\n",
    "f5 = '{:15.2f}'.format(ex3)\n",
    "print(f5)"
   ]
  },
  {
   "cell_type": "code",
   "execution_count": 110,
   "id": "3c58914b",
   "metadata": {},
   "outputs": [
    {
     "name": "stdout",
     "output_type": "stream",
     "text": [
      "저축 증가\n"
     ]
    }
   ],
   "source": [
    "# 제어문 - if~elif~else\n",
    "# \"수입과 지출금액을 비교해서 수입이 많은면 저축 증가, 반대이면 빚이 증가, \n",
    "# 같으면 현상 유지\"\n",
    "i = 5,000,000\n",
    "e = 3,000,000\n",
    "\n",
    "if i > e:\n",
    "    print('저축 증가')\n",
    "elif i < e:\n",
    "    print('빛이 증가')\n",
    "else:\n",
    "    print('현상 유지')"
   ]
  },
  {
   "cell_type": "code",
   "execution_count": 111,
   "id": "1e17b64a",
   "metadata": {},
   "outputs": [
    {
     "name": "stdout",
     "output_type": "stream",
     "text": [
      "5\n",
      "15\n",
      "6\n",
      "20\n",
      "7\n",
      "25\n"
     ]
    }
   ],
   "source": [
    "# for 반복문\n",
    "numbers = [5,15,6,20,7,25]\n",
    "for number in numbers:\n",
    "    print(number)"
   ]
  },
  {
   "cell_type": "code",
   "execution_count": null,
   "id": "841ee795",
   "metadata": {},
   "outputs": [],
   "source": [
    "# 5를 2로 나누었을때의 몫과 나머지를 구하세요."
   ]
  },
  {
   "cell_type": "code",
   "execution_count": null,
   "id": "5b7ca15c",
   "metadata": {},
   "outputs": [],
   "source": [
    "# 101의 3승을 구하세요"
   ]
  },
  {
   "cell_type": "code",
   "execution_count": null,
   "id": "dd03b96a",
   "metadata": {},
   "outputs": [],
   "source": [
    "# Python과 3.8.3을 합쳐서 Python 3.8.3으로 출력하세요"
   ]
  },
  {
   "cell_type": "code",
   "execution_count": null,
   "id": "103aa88f",
   "metadata": {},
   "outputs": [],
   "source": [
    "# a = 5 a = '10' a = 15일때 a의 자료형은 무엇인가?"
   ]
  },
  {
   "cell_type": "code",
   "execution_count": null,
   "id": "6f394cc9",
   "metadata": {},
   "outputs": [],
   "source": [
    "# 5의 3승을 3으로 나누었을때의 나머지를 복합 대입 연산자를 이용해서 구하세요."
   ]
  },
  {
   "cell_type": "code",
   "execution_count": null,
   "id": "ff5ac523",
   "metadata": {},
   "outputs": [],
   "source": [
    "# 이름을 물어보고 답하는 내용을 출력하세요"
   ]
  },
  {
   "cell_type": "code",
   "execution_count": null,
   "id": "95c5bdfb",
   "metadata": {},
   "outputs": [],
   "source": [
    "# 숫자 3개를 입력해서 첫번째 숫자를 두번째 숫자 승한 뒤에 세번째 숫자로 \n",
    "# 나누었을 때 몫을 구하세요."
   ]
  },
  {
   "cell_type": "code",
   "execution_count": null,
   "id": "e800bd3c",
   "metadata": {},
   "outputs": [],
   "source": [
    "# 1부터 5까지 입력해서 12345를 출력하세요"
   ]
  },
  {
   "cell_type": "code",
   "execution_count": null,
   "id": "6e249cb5",
   "metadata": {},
   "outputs": [],
   "source": [
    "# [0, 1, 2, 3, 4, 5, 6, 7, 8, 9, 'a', 'b', 'c']에서 9와 'a'를 삭제 후 \n",
    "# 리스트로 출력하세요"
   ]
  },
  {
   "cell_type": "code",
   "execution_count": null,
   "id": "983b6a26",
   "metadata": {},
   "outputs": [],
   "source": [
    "# [0, 1, 2, 3, 4, 5, 6, 7, 8, 'b', 'c']에서 'c'를 삭제 후 출력하세요."
   ]
  },
  {
   "cell_type": "code",
   "execution_count": null,
   "id": "a7bc0483",
   "metadata": {},
   "outputs": [],
   "source": [
    "# [4, 8, 5, 4, 8, 4, 3, 9, 1, 9]를 내림차순으로 정렬하세요"
   ]
  },
  {
   "cell_type": "code",
   "execution_count": null,
   "id": "1343e8ea",
   "metadata": {},
   "outputs": [],
   "source": [
    "# Q. 태어난 연도를 입력받아 띠를 출력하는 프로그램을 작성하세요.\n",
    "# 원숭이, 닭, 개, 돼지, 쥐, 소, 범, 토끼, 용, 뱀, 말, 양띠"
   ]
  },
  {
   "cell_type": "markdown",
   "id": "beed542d",
   "metadata": {},
   "source": [
    "Q. 계절 구분 프로그램\n",
    " - 시나리오 : 3 ~ 5월은 봄, 6 ~ 8월은 여름, 9 ~ 11월은 가을, 12 ~ 2월은 겨울로 구분. 지금 계절을 알려주는 프로그램\n",
    " - 각 계절별 출력 멘트는 계절에 맞게 창작\n",
    " - if 조건문으로 datetime 모듈을 import해서 datetime.now 함수를 사용해서 작성 "
   ]
  }
 ],
 "metadata": {
  "kernelspec": {
   "display_name": "Python 3",
   "language": "python",
   "name": "python3"
  },
  "language_info": {
   "codemirror_mode": {
    "name": "ipython",
    "version": 3
   },
   "file_extension": ".py",
   "mimetype": "text/x-python",
   "name": "python",
   "nbconvert_exporter": "python",
   "pygments_lexer": "ipython3",
   "version": "3.8.10"
  }
 },
 "nbformat": 4,
 "nbformat_minor": 5
}
